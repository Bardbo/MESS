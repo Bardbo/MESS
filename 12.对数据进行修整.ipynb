{
 "metadata": {
  "language_info": {
   "codemirror_mode": {
    "name": "ipython",
    "version": 3
   },
   "file_extension": ".py",
   "mimetype": "text/x-python",
   "name": "python",
   "nbconvert_exporter": "python",
   "pygments_lexer": "ipython3",
   "version": "3.8.3-final"
  },
  "orig_nbformat": 2,
  "kernelspec": {
   "name": "python3",
   "display_name": "Python 3"
  }
 },
 "nbformat": 4,
 "nbformat_minor": 2,
 "cells": [
  {
   "cell_type": "code",
   "execution_count": 1,
   "metadata": {},
   "outputs": [],
   "source": [
    "import osmnx as ox\n",
    "import networkx as nx\n",
    "import igraph as ig\n",
    "import pandas as pd\n",
    "import numpy as np"
   ]
  },
  {
   "cell_type": "code",
   "execution_count": 2,
   "metadata": {},
   "outputs": [],
   "source": [
    "data1 = pd.read_csv('./data/day_data/day_1.csv')\n",
    "l1 = len(data1)"
   ]
  },
  {
   "cell_type": "code",
   "execution_count": 3,
   "metadata": {},
   "outputs": [
    {
     "output_type": "stream",
     "name": "stdout",
     "text": [
      "原数据308629条, 去除不可达后数据307790条, 去除数据839条\n"
     ]
    }
   ],
   "source": [
    "data1 = data1[~(data1['new_duration'] == np.inf)]\n",
    "data1.reset_index(inplace=True, drop=True)\n",
    "l2 = len(data1)\n",
    "print(f'原数据{l1}条, 去除不可达后数据{l2}条, 去除数据{l1-l2}条')"
   ]
  },
  {
   "cell_type": "code",
   "execution_count": 4,
   "metadata": {},
   "outputs": [],
   "source": [
    "# %%time\n",
    "# pd.to_datetime(data1.iloc[0, 0]) + pd.Timedelta(seconds=175)"
   ]
  },
  {
   "cell_type": "code",
   "execution_count": 5,
   "metadata": {},
   "outputs": [],
   "source": [
    "data1['pickup_datetime'] = pd.to_datetime(data1['pickup_datetime'])"
   ]
  },
  {
   "cell_type": "code",
   "execution_count": 6,
   "metadata": {},
   "outputs": [],
   "source": [
    "def get_timedelta(x):\n",
    "    x = round(x)\n",
    "    return pd.Timedelta(seconds=x)"
   ]
  },
  {
   "cell_type": "code",
   "execution_count": 7,
   "metadata": {},
   "outputs": [
    {
     "output_type": "stream",
     "name": "stdout",
     "text": [
      "Wall time: 4.25 s\n"
     ]
    }
   ],
   "source": [
    "%%time\n",
    "data1['new_duration'] = data1['new_duration'].apply(get_timedelta)"
   ]
  },
  {
   "cell_type": "code",
   "execution_count": 8,
   "metadata": {},
   "outputs": [],
   "source": [
    "data1['dropoff_datetime'] = data1['pickup_datetime'] + data1['new_duration']"
   ]
  },
  {
   "cell_type": "code",
   "execution_count": 9,
   "metadata": {},
   "outputs": [
    {
     "output_type": "execute_result",
     "data": {
      "text/plain": [
       "           pickup_datetime    dropoff_datetime  pickup_longitude  \\\n",
       "0      2014-01-01 00:00:00 2014-01-01 00:02:55        -73.979904   \n",
       "1      2014-01-01 00:00:00 2014-01-01 00:02:18        -74.000610   \n",
       "2      2014-01-01 00:00:00 2014-01-01 00:04:19        -73.971300   \n",
       "3      2014-01-01 00:00:00 2014-01-01 00:02:02        -73.992710   \n",
       "4      2014-01-01 00:00:00 2014-01-01 00:01:30        -73.973420   \n",
       "...                    ...                 ...               ...   \n",
       "307785 2014-01-01 23:59:53 2014-01-02 00:11:02        -73.954040   \n",
       "307786 2014-01-01 23:59:54 2014-01-02 00:07:32        -73.984210   \n",
       "307787 2014-01-01 23:59:54 2014-01-02 00:16:15        -74.006000   \n",
       "307788 2014-01-01 23:59:55 2014-01-02 00:06:56        -73.990425   \n",
       "307789 2014-01-01 23:59:57 2014-01-02 00:06:00        -73.978714   \n",
       "\n",
       "        pickup_latitude  dropoff_longitude  dropoff_latitude     O     D  \\\n",
       "0             40.761246         -73.973010         40.759007  1776  1724   \n",
       "1             40.727272         -73.993050         40.725500   816   766   \n",
       "2             40.792706         -73.959910         40.800747  2586  2796   \n",
       "3             40.743020         -73.989044         40.743366  1296  1312   \n",
       "4             40.751488         -73.973290         40.755287  1552  1635   \n",
       "...                 ...                ...               ...   ...   ...   \n",
       "307785        40.787520         -73.986720         40.764965  2462  1932   \n",
       "307786        40.760310         -73.999430         40.746100  1752  1315   \n",
       "307787        40.735764         -73.965904         40.766144  1095  1908   \n",
       "307788        40.730553         -73.988460         40.748577   922  1453   \n",
       "307789        40.744934         -73.976105         40.728638  1352   831   \n",
       "\n",
       "        duration  weekday  day  hour    new_duration  \n",
       "0            120        2    1     0 0 days 00:02:55  \n",
       "1            120        2    1     0 0 days 00:02:18  \n",
       "2            180        2    1     0 0 days 00:04:19  \n",
       "3            180        2    1     0 0 days 00:02:02  \n",
       "4            240        2    1     0 0 days 00:01:30  \n",
       "...          ...      ...  ...   ...             ...  \n",
       "307785       552        2    1    23 0 days 00:11:09  \n",
       "307786       287        2    1    23 0 days 00:07:38  \n",
       "307787       708        2    1    23 0 days 00:16:21  \n",
       "307788       363        2    1    23 0 days 00:07:01  \n",
       "307789       706        2    1    23 0 days 00:06:03  \n",
       "\n",
       "[307790 rows x 13 columns]"
      ],
      "text/html": "<div>\n<style scoped>\n    .dataframe tbody tr th:only-of-type {\n        vertical-align: middle;\n    }\n\n    .dataframe tbody tr th {\n        vertical-align: top;\n    }\n\n    .dataframe thead th {\n        text-align: right;\n    }\n</style>\n<table border=\"1\" class=\"dataframe\">\n  <thead>\n    <tr style=\"text-align: right;\">\n      <th></th>\n      <th>pickup_datetime</th>\n      <th>dropoff_datetime</th>\n      <th>pickup_longitude</th>\n      <th>pickup_latitude</th>\n      <th>dropoff_longitude</th>\n      <th>dropoff_latitude</th>\n      <th>O</th>\n      <th>D</th>\n      <th>duration</th>\n      <th>weekday</th>\n      <th>day</th>\n      <th>hour</th>\n      <th>new_duration</th>\n    </tr>\n  </thead>\n  <tbody>\n    <tr>\n      <th>0</th>\n      <td>2014-01-01 00:00:00</td>\n      <td>2014-01-01 00:02:55</td>\n      <td>-73.979904</td>\n      <td>40.761246</td>\n      <td>-73.973010</td>\n      <td>40.759007</td>\n      <td>1776</td>\n      <td>1724</td>\n      <td>120</td>\n      <td>2</td>\n      <td>1</td>\n      <td>0</td>\n      <td>0 days 00:02:55</td>\n    </tr>\n    <tr>\n      <th>1</th>\n      <td>2014-01-01 00:00:00</td>\n      <td>2014-01-01 00:02:18</td>\n      <td>-74.000610</td>\n      <td>40.727272</td>\n      <td>-73.993050</td>\n      <td>40.725500</td>\n      <td>816</td>\n      <td>766</td>\n      <td>120</td>\n      <td>2</td>\n      <td>1</td>\n      <td>0</td>\n      <td>0 days 00:02:18</td>\n    </tr>\n    <tr>\n      <th>2</th>\n      <td>2014-01-01 00:00:00</td>\n      <td>2014-01-01 00:04:19</td>\n      <td>-73.971300</td>\n      <td>40.792706</td>\n      <td>-73.959910</td>\n      <td>40.800747</td>\n      <td>2586</td>\n      <td>2796</td>\n      <td>180</td>\n      <td>2</td>\n      <td>1</td>\n      <td>0</td>\n      <td>0 days 00:04:19</td>\n    </tr>\n    <tr>\n      <th>3</th>\n      <td>2014-01-01 00:00:00</td>\n      <td>2014-01-01 00:02:02</td>\n      <td>-73.992710</td>\n      <td>40.743020</td>\n      <td>-73.989044</td>\n      <td>40.743366</td>\n      <td>1296</td>\n      <td>1312</td>\n      <td>180</td>\n      <td>2</td>\n      <td>1</td>\n      <td>0</td>\n      <td>0 days 00:02:02</td>\n    </tr>\n    <tr>\n      <th>4</th>\n      <td>2014-01-01 00:00:00</td>\n      <td>2014-01-01 00:01:30</td>\n      <td>-73.973420</td>\n      <td>40.751488</td>\n      <td>-73.973290</td>\n      <td>40.755287</td>\n      <td>1552</td>\n      <td>1635</td>\n      <td>240</td>\n      <td>2</td>\n      <td>1</td>\n      <td>0</td>\n      <td>0 days 00:01:30</td>\n    </tr>\n    <tr>\n      <th>...</th>\n      <td>...</td>\n      <td>...</td>\n      <td>...</td>\n      <td>...</td>\n      <td>...</td>\n      <td>...</td>\n      <td>...</td>\n      <td>...</td>\n      <td>...</td>\n      <td>...</td>\n      <td>...</td>\n      <td>...</td>\n      <td>...</td>\n    </tr>\n    <tr>\n      <th>307785</th>\n      <td>2014-01-01 23:59:53</td>\n      <td>2014-01-02 00:11:02</td>\n      <td>-73.954040</td>\n      <td>40.787520</td>\n      <td>-73.986720</td>\n      <td>40.764965</td>\n      <td>2462</td>\n      <td>1932</td>\n      <td>552</td>\n      <td>2</td>\n      <td>1</td>\n      <td>23</td>\n      <td>0 days 00:11:09</td>\n    </tr>\n    <tr>\n      <th>307786</th>\n      <td>2014-01-01 23:59:54</td>\n      <td>2014-01-02 00:07:32</td>\n      <td>-73.984210</td>\n      <td>40.760310</td>\n      <td>-73.999430</td>\n      <td>40.746100</td>\n      <td>1752</td>\n      <td>1315</td>\n      <td>287</td>\n      <td>2</td>\n      <td>1</td>\n      <td>23</td>\n      <td>0 days 00:07:38</td>\n    </tr>\n    <tr>\n      <th>307787</th>\n      <td>2014-01-01 23:59:54</td>\n      <td>2014-01-02 00:16:15</td>\n      <td>-74.006000</td>\n      <td>40.735764</td>\n      <td>-73.965904</td>\n      <td>40.766144</td>\n      <td>1095</td>\n      <td>1908</td>\n      <td>708</td>\n      <td>2</td>\n      <td>1</td>\n      <td>23</td>\n      <td>0 days 00:16:21</td>\n    </tr>\n    <tr>\n      <th>307788</th>\n      <td>2014-01-01 23:59:55</td>\n      <td>2014-01-02 00:06:56</td>\n      <td>-73.990425</td>\n      <td>40.730553</td>\n      <td>-73.988460</td>\n      <td>40.748577</td>\n      <td>922</td>\n      <td>1453</td>\n      <td>363</td>\n      <td>2</td>\n      <td>1</td>\n      <td>23</td>\n      <td>0 days 00:07:01</td>\n    </tr>\n    <tr>\n      <th>307789</th>\n      <td>2014-01-01 23:59:57</td>\n      <td>2014-01-02 00:06:00</td>\n      <td>-73.978714</td>\n      <td>40.744934</td>\n      <td>-73.976105</td>\n      <td>40.728638</td>\n      <td>1352</td>\n      <td>831</td>\n      <td>706</td>\n      <td>2</td>\n      <td>1</td>\n      <td>23</td>\n      <td>0 days 00:06:03</td>\n    </tr>\n  </tbody>\n</table>\n<p>307790 rows × 13 columns</p>\n</div>"
     },
     "metadata": {},
     "execution_count": 9
    }
   ],
   "source": [
    "data1"
   ]
  },
  {
   "cell_type": "code",
   "execution_count": 10,
   "metadata": {},
   "outputs": [],
   "source": [
    "data1.to_csv('./data/day_data/use_day_1.csv', index=False)"
   ]
  },
  {
   "cell_type": "code",
   "execution_count": null,
   "metadata": {},
   "outputs": [],
   "source": []
  },
  {
   "cell_type": "code",
   "execution_count": null,
   "metadata": {},
   "outputs": [],
   "source": []
  },
  {
   "source": [
    "## 以下省略"
   ],
   "cell_type": "markdown",
   "metadata": {}
  },
  {
   "cell_type": "code",
   "execution_count": 11,
   "metadata": {},
   "outputs": [],
   "source": [
    "# 空驶时间阈值 阈值越大连接数越多，车辆逐渐减少，空驶率逐渐增大\n",
    "# 此处需考虑司机在原地等待的时间\n",
    "theta = 15\n",
    "# 预知时长 时长逐渐增长，连接数逐渐增多多，车辆数逐渐减少， 愈加难以等待或者预测\n",
    "pred_time = 30\n",
    "# 延误时间阈值\n",
    "delay = 0"
   ]
  },
  {
   "cell_type": "code",
   "execution_count": 15,
   "metadata": {},
   "outputs": [],
   "source": [
    "# 构建图网络\n",
    "G = ox.load_graphml('./data/Manhattan.graphml')\n",
    "G_ig = ig.Graph(directed=True)\n",
    "G_ig.add_vertices(list(G.nodes()))\n",
    "G_ig.add_edges(list(G.edges()))\n",
    "travel_time = pd.read_csv('./multi/travel_time.csv')\n",
    "G_ig.es['travel_time'] = travel_time['travel_time']"
   ]
  },
  {
   "cell_type": "code",
   "execution_count": 16,
   "metadata": {},
   "outputs": [],
   "source": [
    "data1['pred_time'] = data1['pickup_datetime'] + pd.Timedelta(minutes=pred_time)"
   ]
  },
  {
   "cell_type": "code",
   "execution_count": 23,
   "metadata": {},
   "outputs": [
    {
     "output_type": "execute_result",
     "data": {
      "text/plain": [
       "           pickup_datetime    dropoff_datetime  pickup_longitude  \\\n",
       "0      2014-01-01 00:00:00 2014-01-01 00:02:55        -73.979904   \n",
       "1      2014-01-01 00:00:00 2014-01-01 00:02:18        -74.000610   \n",
       "2      2014-01-01 00:00:00 2014-01-01 00:04:19        -73.971300   \n",
       "3      2014-01-01 00:00:00 2014-01-01 00:02:02        -73.992710   \n",
       "4      2014-01-01 00:00:00 2014-01-01 00:01:30        -73.973420   \n",
       "...                    ...                 ...               ...   \n",
       "307785 2014-01-01 23:59:53 2014-01-02 00:11:02        -73.954040   \n",
       "307786 2014-01-01 23:59:54 2014-01-02 00:07:32        -73.984210   \n",
       "307787 2014-01-01 23:59:54 2014-01-02 00:16:15        -74.006000   \n",
       "307788 2014-01-01 23:59:55 2014-01-02 00:06:56        -73.990425   \n",
       "307789 2014-01-01 23:59:57 2014-01-02 00:06:00        -73.978714   \n",
       "\n",
       "        pickup_latitude  dropoff_longitude  dropoff_latitude     O     D  \\\n",
       "0             40.761246         -73.973010         40.759007  1776  1724   \n",
       "1             40.727272         -73.993050         40.725500   816   766   \n",
       "2             40.792706         -73.959910         40.800747  2586  2796   \n",
       "3             40.743020         -73.989044         40.743366  1296  1312   \n",
       "4             40.751488         -73.973290         40.755287  1552  1635   \n",
       "...                 ...                ...               ...   ...   ...   \n",
       "307785        40.787520         -73.986720         40.764965  2462  1932   \n",
       "307786        40.760310         -73.999430         40.746100  1752  1315   \n",
       "307787        40.735764         -73.965904         40.766144  1095  1908   \n",
       "307788        40.730553         -73.988460         40.748577   922  1453   \n",
       "307789        40.744934         -73.976105         40.728638  1352   831   \n",
       "\n",
       "        duration  weekday  day  hour    new_duration           pred_time  \n",
       "0            120        2    1     0 0 days 00:02:55 2014-01-01 00:30:00  \n",
       "1            120        2    1     0 0 days 00:02:18 2014-01-01 00:30:00  \n",
       "2            180        2    1     0 0 days 00:04:19 2014-01-01 00:30:00  \n",
       "3            180        2    1     0 0 days 00:02:02 2014-01-01 00:30:00  \n",
       "4            240        2    1     0 0 days 00:01:30 2014-01-01 00:30:00  \n",
       "...          ...      ...  ...   ...             ...                 ...  \n",
       "307785       552        2    1    23 0 days 00:11:09 2014-01-02 00:29:53  \n",
       "307786       287        2    1    23 0 days 00:07:38 2014-01-02 00:29:54  \n",
       "307787       708        2    1    23 0 days 00:16:21 2014-01-02 00:29:54  \n",
       "307788       363        2    1    23 0 days 00:07:01 2014-01-02 00:29:55  \n",
       "307789       706        2    1    23 0 days 00:06:03 2014-01-02 00:29:57  \n",
       "\n",
       "[307790 rows x 14 columns]"
      ],
      "text/html": "<div>\n<style scoped>\n    .dataframe tbody tr th:only-of-type {\n        vertical-align: middle;\n    }\n\n    .dataframe tbody tr th {\n        vertical-align: top;\n    }\n\n    .dataframe thead th {\n        text-align: right;\n    }\n</style>\n<table border=\"1\" class=\"dataframe\">\n  <thead>\n    <tr style=\"text-align: right;\">\n      <th></th>\n      <th>pickup_datetime</th>\n      <th>dropoff_datetime</th>\n      <th>pickup_longitude</th>\n      <th>pickup_latitude</th>\n      <th>dropoff_longitude</th>\n      <th>dropoff_latitude</th>\n      <th>O</th>\n      <th>D</th>\n      <th>duration</th>\n      <th>weekday</th>\n      <th>day</th>\n      <th>hour</th>\n      <th>new_duration</th>\n      <th>pred_time</th>\n    </tr>\n  </thead>\n  <tbody>\n    <tr>\n      <th>0</th>\n      <td>2014-01-01 00:00:00</td>\n      <td>2014-01-01 00:02:55</td>\n      <td>-73.979904</td>\n      <td>40.761246</td>\n      <td>-73.973010</td>\n      <td>40.759007</td>\n      <td>1776</td>\n      <td>1724</td>\n      <td>120</td>\n      <td>2</td>\n      <td>1</td>\n      <td>0</td>\n      <td>0 days 00:02:55</td>\n      <td>2014-01-01 00:30:00</td>\n    </tr>\n    <tr>\n      <th>1</th>\n      <td>2014-01-01 00:00:00</td>\n      <td>2014-01-01 00:02:18</td>\n      <td>-74.000610</td>\n      <td>40.727272</td>\n      <td>-73.993050</td>\n      <td>40.725500</td>\n      <td>816</td>\n      <td>766</td>\n      <td>120</td>\n      <td>2</td>\n      <td>1</td>\n      <td>0</td>\n      <td>0 days 00:02:18</td>\n      <td>2014-01-01 00:30:00</td>\n    </tr>\n    <tr>\n      <th>2</th>\n      <td>2014-01-01 00:00:00</td>\n      <td>2014-01-01 00:04:19</td>\n      <td>-73.971300</td>\n      <td>40.792706</td>\n      <td>-73.959910</td>\n      <td>40.800747</td>\n      <td>2586</td>\n      <td>2796</td>\n      <td>180</td>\n      <td>2</td>\n      <td>1</td>\n      <td>0</td>\n      <td>0 days 00:04:19</td>\n      <td>2014-01-01 00:30:00</td>\n    </tr>\n    <tr>\n      <th>3</th>\n      <td>2014-01-01 00:00:00</td>\n      <td>2014-01-01 00:02:02</td>\n      <td>-73.992710</td>\n      <td>40.743020</td>\n      <td>-73.989044</td>\n      <td>40.743366</td>\n      <td>1296</td>\n      <td>1312</td>\n      <td>180</td>\n      <td>2</td>\n      <td>1</td>\n      <td>0</td>\n      <td>0 days 00:02:02</td>\n      <td>2014-01-01 00:30:00</td>\n    </tr>\n    <tr>\n      <th>4</th>\n      <td>2014-01-01 00:00:00</td>\n      <td>2014-01-01 00:01:30</td>\n      <td>-73.973420</td>\n      <td>40.751488</td>\n      <td>-73.973290</td>\n      <td>40.755287</td>\n      <td>1552</td>\n      <td>1635</td>\n      <td>240</td>\n      <td>2</td>\n      <td>1</td>\n      <td>0</td>\n      <td>0 days 00:01:30</td>\n      <td>2014-01-01 00:30:00</td>\n    </tr>\n    <tr>\n      <th>...</th>\n      <td>...</td>\n      <td>...</td>\n      <td>...</td>\n      <td>...</td>\n      <td>...</td>\n      <td>...</td>\n      <td>...</td>\n      <td>...</td>\n      <td>...</td>\n      <td>...</td>\n      <td>...</td>\n      <td>...</td>\n      <td>...</td>\n      <td>...</td>\n    </tr>\n    <tr>\n      <th>307785</th>\n      <td>2014-01-01 23:59:53</td>\n      <td>2014-01-02 00:11:02</td>\n      <td>-73.954040</td>\n      <td>40.787520</td>\n      <td>-73.986720</td>\n      <td>40.764965</td>\n      <td>2462</td>\n      <td>1932</td>\n      <td>552</td>\n      <td>2</td>\n      <td>1</td>\n      <td>23</td>\n      <td>0 days 00:11:09</td>\n      <td>2014-01-02 00:29:53</td>\n    </tr>\n    <tr>\n      <th>307786</th>\n      <td>2014-01-01 23:59:54</td>\n      <td>2014-01-02 00:07:32</td>\n      <td>-73.984210</td>\n      <td>40.760310</td>\n      <td>-73.999430</td>\n      <td>40.746100</td>\n      <td>1752</td>\n      <td>1315</td>\n      <td>287</td>\n      <td>2</td>\n      <td>1</td>\n      <td>23</td>\n      <td>0 days 00:07:38</td>\n      <td>2014-01-02 00:29:54</td>\n    </tr>\n    <tr>\n      <th>307787</th>\n      <td>2014-01-01 23:59:54</td>\n      <td>2014-01-02 00:16:15</td>\n      <td>-74.006000</td>\n      <td>40.735764</td>\n      <td>-73.965904</td>\n      <td>40.766144</td>\n      <td>1095</td>\n      <td>1908</td>\n      <td>708</td>\n      <td>2</td>\n      <td>1</td>\n      <td>23</td>\n      <td>0 days 00:16:21</td>\n      <td>2014-01-02 00:29:54</td>\n    </tr>\n    <tr>\n      <th>307788</th>\n      <td>2014-01-01 23:59:55</td>\n      <td>2014-01-02 00:06:56</td>\n      <td>-73.990425</td>\n      <td>40.730553</td>\n      <td>-73.988460</td>\n      <td>40.748577</td>\n      <td>922</td>\n      <td>1453</td>\n      <td>363</td>\n      <td>2</td>\n      <td>1</td>\n      <td>23</td>\n      <td>0 days 00:07:01</td>\n      <td>2014-01-02 00:29:55</td>\n    </tr>\n    <tr>\n      <th>307789</th>\n      <td>2014-01-01 23:59:57</td>\n      <td>2014-01-02 00:06:00</td>\n      <td>-73.978714</td>\n      <td>40.744934</td>\n      <td>-73.976105</td>\n      <td>40.728638</td>\n      <td>1352</td>\n      <td>831</td>\n      <td>706</td>\n      <td>2</td>\n      <td>1</td>\n      <td>23</td>\n      <td>0 days 00:06:03</td>\n      <td>2014-01-02 00:29:57</td>\n    </tr>\n  </tbody>\n</table>\n<p>307790 rows × 14 columns</p>\n</div>"
     },
     "metadata": {},
     "execution_count": 23
    }
   ],
   "source": [
    "data1"
   ]
  },
  {
   "cell_type": "code",
   "execution_count": 47,
   "metadata": {},
   "outputs": [
    {
     "output_type": "stream",
     "name": "stdout",
     "text": [
      "572\nWall time: 2.41 s\n"
     ]
    }
   ],
   "source": [
    "%%time\n",
    "# 获取可连接的需求 构建车辆共享网络\n",
    "# 预知时长约束，当前需求至pred_time 内的出行\n",
    "i = 302000\n",
    "pred_data = data1[(data1['pickup_datetime'][i] <= data1['pickup_datetime']) & (data1['pickup_datetime'] <= data1['pred_time'][i])]\n",
    "# 当前出行的终点\n",
    "i_d = pred_data.iloc[0, :]['D']\n",
    "\n",
    "# 空驶行程时间计算函数\n",
    "def get_t_ij(j_o, i_d=i_d, G=G_ig):\n",
    "    return G_ig.shortest_paths(i_d, j_o, weights='travel_time')[0][0]\n",
    "\n",
    "# 当前出行终点前往pred_time 内的出行起点的行程时间 5.56s\n",
    "t_ij = pred_data.iloc[1:, :]['D'].apply(get_t_ij).apply(get_timedelta)\n",
    "\n",
    "# 当前出行终点的预计到达时刻\n",
    "t_id = pred_data.iloc[0, :]['dropoff_datetime']\n",
    "\n",
    "# 实际的延误时间\n",
    "real_delay = (t_id + t_ij - pred_data.iloc[0:, :]['pickup_datetime'])\n",
    "# 约束\n",
    "# 当前出行终点+空驶行程时间需 小于等于 下一个行程的起点时间+允许的延误\n",
    "condition1 = real_delay <= pd.Timedelta(minutes=delay)\n",
    "# 确定行程时间 小于空驶阈值， 且无论其晚到达或者早到达，当前出行终点时刻与下一个行程的起点时刻应该相差在空驶阈值内\n",
    "delta_two_trips = pred_data.iloc[1:, :]['pickup_datetime'] - t_id\n",
    "condition2 = (t_ij <= pd.Timedelta(minutes=theta)) & (delta_two_trips <= pd.Timedelta(minutes=theta))\n",
    "# 结合两个条件\n",
    "condition = condition1 & condition2\n",
    "# 当延误小于0时，没有乘客的时间等于delta_two_trips， 当延误大于等于0时，这个时间等于行驶时间\n",
    "condition3 = (real_delay < pd.Timedelta(minutes=0))\n",
    "pred_data['no_user_time'] = delta_two_trips[condition3].append(t_ij[~condition3]).sort_index()\n",
    "\n",
    "# 共享网络边保存\n",
    "share_trip = pred_data.iloc[1:, :][condition].index\n",
    "save_data = pd.DataFrame({'D': share_trip})\n",
    "save_data['O'] = i\n",
    "save_data['no_user_time'] = pred_data['no_user_time'][share_trip].tolist()\n",
    "\n",
    "print(len(save_data))"
   ]
  },
  {
   "cell_type": "code",
   "execution_count": null,
   "metadata": {},
   "outputs": [],
   "source": []
  }
 ]
}