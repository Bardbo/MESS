{
 "metadata": {
  "language_info": {
   "codemirror_mode": {
    "name": "ipython",
    "version": 3
   },
   "file_extension": ".py",
   "mimetype": "text/x-python",
   "name": "python",
   "nbconvert_exporter": "python",
   "pygments_lexer": "ipython3",
   "version": "3.8.3-final"
  },
  "orig_nbformat": 2,
  "kernelspec": {
   "name": "python3",
   "display_name": "Python 3"
  }
 },
 "nbformat": 4,
 "nbformat_minor": 2,
 "cells": [
  {
   "cell_type": "code",
   "execution_count": 2,
   "metadata": {},
   "outputs": [],
   "source": [
    "import pandas as pd"
   ]
  },
  {
   "cell_type": "code",
   "execution_count": 3,
   "metadata": {},
   "outputs": [],
   "source": [
    "day1 = pd.read_csv('D:\\大论文\\myCode\\data\\day_data\\day_1',\n",
    "                       names=[\n",
    "                           'pickup_datetime', 'dropoff_datetime',\n",
    "                           'pickup_longitude', 'pickup_latitude',\n",
    "                           'dropoff_longitude', 'dropoff_latitude', 'O', 'D',\n",
    "                           'duration', 'weekday', 'day', 'hour'\n",
    "                       ])"
   ]
  },
  {
   "cell_type": "code",
   "execution_count": 4,
   "metadata": {},
   "outputs": [
    {
     "output_type": "execute_result",
     "data": {
      "text/plain": [
       "            pickup_datetime     dropoff_datetime  pickup_longitude  \\\n",
       "0       2014-01-01 02:48:45  2014-01-01 02:53:00        -73.998950   \n",
       "1       2014-01-01 10:49:49  2014-01-01 10:56:51        -73.981400   \n",
       "2       2014-01-01 16:30:27  2014-01-01 16:35:26        -73.998320   \n",
       "3       2014-01-01 11:05:38  2014-01-01 11:11:05        -73.984640   \n",
       "4       2014-01-01 01:35:55  2014-01-01 01:54:07        -73.987390   \n",
       "...                     ...                  ...               ...   \n",
       "308624  2014-01-01 14:12:08  2014-01-01 14:16:53        -73.976430   \n",
       "308625  2014-01-01 03:53:02  2014-01-01 04:06:56        -73.990300   \n",
       "308626  2014-01-01 05:14:24  2014-01-01 05:16:58        -73.976715   \n",
       "308627  2014-01-01 14:37:17  2014-01-01 14:42:52        -74.002556   \n",
       "308628  2014-01-01 01:04:58  2014-01-01 01:11:29        -73.973400   \n",
       "\n",
       "        pickup_latitude  dropoff_longitude  dropoff_latitude     O     D  \\\n",
       "0             40.754616         -73.988700         40.769066  1611  1992   \n",
       "1             40.728832         -73.997870         40.716984   871   392   \n",
       "2             40.713634         -74.008965         40.712360   239   235   \n",
       "3             40.748173         -73.981865         40.736668  1450  1121   \n",
       "4             40.719975         -73.987500         40.760387   526  1767   \n",
       "...                 ...                ...               ...   ...   ...   \n",
       "308624        40.748222         -73.961880         40.767870  1445  1968   \n",
       "308625        40.772026         -73.978546         40.741140  2063  1246   \n",
       "308626        40.727116         -73.982560         40.724865   815   686   \n",
       "308627        40.748722         -74.005750         40.745487  1473  1345   \n",
       "308628        40.743880         -73.985504         40.731518  1314   966   \n",
       "\n",
       "        duration  weekday  day  hour  \n",
       "0            255        2    1     2  \n",
       "1            422        2    1    10  \n",
       "2            299        2    1    16  \n",
       "3            327        2    1    11  \n",
       "4           1092        2    1     1  \n",
       "...          ...      ...  ...   ...  \n",
       "308624       285        2    1    14  \n",
       "308625       834        2    1     3  \n",
       "308626       154        2    1     5  \n",
       "308627       335        2    1    14  \n",
       "308628       391        2    1     1  \n",
       "\n",
       "[308629 rows x 12 columns]"
      ],
      "text/html": "<div>\n<style scoped>\n    .dataframe tbody tr th:only-of-type {\n        vertical-align: middle;\n    }\n\n    .dataframe tbody tr th {\n        vertical-align: top;\n    }\n\n    .dataframe thead th {\n        text-align: right;\n    }\n</style>\n<table border=\"1\" class=\"dataframe\">\n  <thead>\n    <tr style=\"text-align: right;\">\n      <th></th>\n      <th>pickup_datetime</th>\n      <th>dropoff_datetime</th>\n      <th>pickup_longitude</th>\n      <th>pickup_latitude</th>\n      <th>dropoff_longitude</th>\n      <th>dropoff_latitude</th>\n      <th>O</th>\n      <th>D</th>\n      <th>duration</th>\n      <th>weekday</th>\n      <th>day</th>\n      <th>hour</th>\n    </tr>\n  </thead>\n  <tbody>\n    <tr>\n      <th>0</th>\n      <td>2014-01-01 02:48:45</td>\n      <td>2014-01-01 02:53:00</td>\n      <td>-73.998950</td>\n      <td>40.754616</td>\n      <td>-73.988700</td>\n      <td>40.769066</td>\n      <td>1611</td>\n      <td>1992</td>\n      <td>255</td>\n      <td>2</td>\n      <td>1</td>\n      <td>2</td>\n    </tr>\n    <tr>\n      <th>1</th>\n      <td>2014-01-01 10:49:49</td>\n      <td>2014-01-01 10:56:51</td>\n      <td>-73.981400</td>\n      <td>40.728832</td>\n      <td>-73.997870</td>\n      <td>40.716984</td>\n      <td>871</td>\n      <td>392</td>\n      <td>422</td>\n      <td>2</td>\n      <td>1</td>\n      <td>10</td>\n    </tr>\n    <tr>\n      <th>2</th>\n      <td>2014-01-01 16:30:27</td>\n      <td>2014-01-01 16:35:26</td>\n      <td>-73.998320</td>\n      <td>40.713634</td>\n      <td>-74.008965</td>\n      <td>40.712360</td>\n      <td>239</td>\n      <td>235</td>\n      <td>299</td>\n      <td>2</td>\n      <td>1</td>\n      <td>16</td>\n    </tr>\n    <tr>\n      <th>3</th>\n      <td>2014-01-01 11:05:38</td>\n      <td>2014-01-01 11:11:05</td>\n      <td>-73.984640</td>\n      <td>40.748173</td>\n      <td>-73.981865</td>\n      <td>40.736668</td>\n      <td>1450</td>\n      <td>1121</td>\n      <td>327</td>\n      <td>2</td>\n      <td>1</td>\n      <td>11</td>\n    </tr>\n    <tr>\n      <th>4</th>\n      <td>2014-01-01 01:35:55</td>\n      <td>2014-01-01 01:54:07</td>\n      <td>-73.987390</td>\n      <td>40.719975</td>\n      <td>-73.987500</td>\n      <td>40.760387</td>\n      <td>526</td>\n      <td>1767</td>\n      <td>1092</td>\n      <td>2</td>\n      <td>1</td>\n      <td>1</td>\n    </tr>\n    <tr>\n      <th>...</th>\n      <td>...</td>\n      <td>...</td>\n      <td>...</td>\n      <td>...</td>\n      <td>...</td>\n      <td>...</td>\n      <td>...</td>\n      <td>...</td>\n      <td>...</td>\n      <td>...</td>\n      <td>...</td>\n      <td>...</td>\n    </tr>\n    <tr>\n      <th>308624</th>\n      <td>2014-01-01 14:12:08</td>\n      <td>2014-01-01 14:16:53</td>\n      <td>-73.976430</td>\n      <td>40.748222</td>\n      <td>-73.961880</td>\n      <td>40.767870</td>\n      <td>1445</td>\n      <td>1968</td>\n      <td>285</td>\n      <td>2</td>\n      <td>1</td>\n      <td>14</td>\n    </tr>\n    <tr>\n      <th>308625</th>\n      <td>2014-01-01 03:53:02</td>\n      <td>2014-01-01 04:06:56</td>\n      <td>-73.990300</td>\n      <td>40.772026</td>\n      <td>-73.978546</td>\n      <td>40.741140</td>\n      <td>2063</td>\n      <td>1246</td>\n      <td>834</td>\n      <td>2</td>\n      <td>1</td>\n      <td>3</td>\n    </tr>\n    <tr>\n      <th>308626</th>\n      <td>2014-01-01 05:14:24</td>\n      <td>2014-01-01 05:16:58</td>\n      <td>-73.976715</td>\n      <td>40.727116</td>\n      <td>-73.982560</td>\n      <td>40.724865</td>\n      <td>815</td>\n      <td>686</td>\n      <td>154</td>\n      <td>2</td>\n      <td>1</td>\n      <td>5</td>\n    </tr>\n    <tr>\n      <th>308627</th>\n      <td>2014-01-01 14:37:17</td>\n      <td>2014-01-01 14:42:52</td>\n      <td>-74.002556</td>\n      <td>40.748722</td>\n      <td>-74.005750</td>\n      <td>40.745487</td>\n      <td>1473</td>\n      <td>1345</td>\n      <td>335</td>\n      <td>2</td>\n      <td>1</td>\n      <td>14</td>\n    </tr>\n    <tr>\n      <th>308628</th>\n      <td>2014-01-01 01:04:58</td>\n      <td>2014-01-01 01:11:29</td>\n      <td>-73.973400</td>\n      <td>40.743880</td>\n      <td>-73.985504</td>\n      <td>40.731518</td>\n      <td>1314</td>\n      <td>966</td>\n      <td>391</td>\n      <td>2</td>\n      <td>1</td>\n      <td>1</td>\n    </tr>\n  </tbody>\n</table>\n<p>308629 rows × 12 columns</p>\n</div>"
     },
     "metadata": {},
     "execution_count": 4
    }
   ],
   "source": [
    "# day1 = day1.sort_values(['pickup_datetime', 'dropoff_datetime'])\n",
    "day1"
   ]
  },
  {
   "cell_type": "code",
   "execution_count": 6,
   "metadata": {},
   "outputs": [],
   "source": [
    "day1[day1['hour'] == 0].to_csv('D:\\大论文\\myCode\\data\\day_data_sorted\\day_1_0h.csv', index=False)"
   ]
  },
  {
   "cell_type": "code",
   "execution_count": 10,
   "metadata": {},
   "outputs": [],
   "source": [
    "for i in range(24):\n",
    "    data = day1[day1['hour'] == i]\n",
    "    data_O = data[['pickup_datetime', 'pickup_longitude', 'pickup_latitude']]\n",
    "    data_D = data[['dropoff_datetime', 'dropoff_longitude', 'dropoff_latitude']]\n",
    "    data_O.to_csv(f'D:\\大论文\\myCode\\data\\day_data_for_cube\\O\\day_1_{i}h_O.csv', index=False)\n",
    "    data_D.to_csv(f'D:\\大论文\\myCode\\data\\day_data_for_cube\\D\\day_1_{i}h_D.csv', index=False)"
   ]
  },
  {
   "cell_type": "code",
   "execution_count": null,
   "metadata": {},
   "outputs": [],
   "source": []
  },
  {
   "cell_type": "code",
   "execution_count": 1,
   "metadata": {},
   "outputs": [],
   "source": [
    "## OD 下面这种做法不行 得做一个OD 的集计\n",
    "# day1.to_csv('D:\\大论文\\myCode\\data\\day_data_OD\\day_1.csv', index=False)"
   ]
  },
  {
   "cell_type": "code",
   "execution_count": 13,
   "metadata": {},
   "outputs": [],
   "source": [
    "day1_OD = day1.groupby(['O', 'D']).count()['hour']"
   ]
  },
  {
   "cell_type": "code",
   "execution_count": null,
   "metadata": {},
   "outputs": [],
   "source": [
    "day1_OD.to_csv('D:\\大论文\\myCode\\data\\day_data_OD\\day_1_OD.csv')"
   ]
  },
  {
   "cell_type": "code",
   "execution_count": 16,
   "metadata": {},
   "outputs": [
    {
     "output_type": "execute_result",
     "data": {
      "text/plain": [
       "           O     D  hour\n",
       "0          0    76     1\n",
       "1          0   720     1\n",
       "2          0  1487     1\n",
       "3          0  1647     1\n",
       "4          0  1670     1\n",
       "...      ...   ...   ...\n",
       "269657  4013  3189     1\n",
       "269658  4013  3216     1\n",
       "269659  4013  3626     1\n",
       "269660  4013  3646     1\n",
       "269661  4013  3664     1\n",
       "\n",
       "[269662 rows x 3 columns]"
      ],
      "text/html": "<div>\n<style scoped>\n    .dataframe tbody tr th:only-of-type {\n        vertical-align: middle;\n    }\n\n    .dataframe tbody tr th {\n        vertical-align: top;\n    }\n\n    .dataframe thead th {\n        text-align: right;\n    }\n</style>\n<table border=\"1\" class=\"dataframe\">\n  <thead>\n    <tr style=\"text-align: right;\">\n      <th></th>\n      <th>O</th>\n      <th>D</th>\n      <th>hour</th>\n    </tr>\n  </thead>\n  <tbody>\n    <tr>\n      <th>0</th>\n      <td>0</td>\n      <td>76</td>\n      <td>1</td>\n    </tr>\n    <tr>\n      <th>1</th>\n      <td>0</td>\n      <td>720</td>\n      <td>1</td>\n    </tr>\n    <tr>\n      <th>2</th>\n      <td>0</td>\n      <td>1487</td>\n      <td>1</td>\n    </tr>\n    <tr>\n      <th>3</th>\n      <td>0</td>\n      <td>1647</td>\n      <td>1</td>\n    </tr>\n    <tr>\n      <th>4</th>\n      <td>0</td>\n      <td>1670</td>\n      <td>1</td>\n    </tr>\n    <tr>\n      <th>...</th>\n      <td>...</td>\n      <td>...</td>\n      <td>...</td>\n    </tr>\n    <tr>\n      <th>269657</th>\n      <td>4013</td>\n      <td>3189</td>\n      <td>1</td>\n    </tr>\n    <tr>\n      <th>269658</th>\n      <td>4013</td>\n      <td>3216</td>\n      <td>1</td>\n    </tr>\n    <tr>\n      <th>269659</th>\n      <td>4013</td>\n      <td>3626</td>\n      <td>1</td>\n    </tr>\n    <tr>\n      <th>269660</th>\n      <td>4013</td>\n      <td>3646</td>\n      <td>1</td>\n    </tr>\n    <tr>\n      <th>269661</th>\n      <td>4013</td>\n      <td>3664</td>\n      <td>1</td>\n    </tr>\n  </tbody>\n</table>\n<p>269662 rows × 3 columns</p>\n</div>"
     },
     "metadata": {},
     "execution_count": 16
    }
   ],
   "source": [
    "day1_OD = pd.read_csv('D:\\大论文\\myCode\\data\\day_data_OD\\day_1_OD.csv')"
   ]
  },
  {
   "cell_type": "code",
   "execution_count": 17,
   "metadata": {},
   "outputs": [],
   "source": [
    "# 交叉口经纬度数据读取\n",
    "coordata = pd.read_csv('./data/nodes_lonlat.csv', header=None)"
   ]
  },
  {
   "cell_type": "code",
   "execution_count": 20,
   "metadata": {},
   "outputs": [],
   "source": [
    "day1_OD['O_lng'] = day1_OD['O'].apply(lambda x:coordata[0][x])\n",
    "day1_OD['O_lat'] = day1_OD['O'].apply(lambda x:coordata[1][x])\n",
    "day1_OD['D_lng'] = day1_OD['D'].apply(lambda x:coordata[0][x])\n",
    "day1_OD['D_lat'] = day1_OD['D'].apply(lambda x:coordata[1][x])"
   ]
  },
  {
   "cell_type": "code",
   "execution_count": 22,
   "metadata": {},
   "outputs": [],
   "source": [
    "day1_OD.to_csv('D:\\大论文\\myCode\\data\\day_data_OD\\day_1.csv', index=False)"
   ]
  },
  {
   "cell_type": "code",
   "execution_count": null,
   "metadata": {},
   "outputs": [],
   "source": []
  }
 ]
}