{
 "metadata": {
  "language_info": {
   "codemirror_mode": {
    "name": "ipython",
    "version": 3
   },
   "file_extension": ".py",
   "mimetype": "text/x-python",
   "name": "python",
   "nbconvert_exporter": "python",
   "pygments_lexer": "ipython3",
   "version": "3.8.3-final"
  },
  "orig_nbformat": 2,
  "kernelspec": {
   "name": "python3",
   "display_name": "Python 3",
   "language": "python"
  }
 },
 "nbformat": 4,
 "nbformat_minor": 2,
 "cells": [
  {
   "cell_type": "code",
   "execution_count": 1,
   "metadata": {},
   "outputs": [],
   "source": [
    "import osmnx as ox\n",
    "import networkx as nx\n",
    "import igraph as ig\n",
    "import pandas as pd\n",
    "import numpy as np\n",
    "import time\n",
    "from tqdm import tqdm"
   ]
  },
  {
   "cell_type": "code",
   "execution_count": 2,
   "metadata": {},
   "outputs": [],
   "source": [
    "def change_type(x):\n",
    "    try:\n",
    "        y = int(x)\n",
    "        return y\n",
    "    except:\n",
    "        # print(x)\n",
    "        return -1\n",
    "def get_seconds(x):\n",
    "    return pd.Timedelta(x).total_seconds()"
   ]
  },
  {
   "cell_type": "code",
   "execution_count": 3,
   "metadata": {},
   "outputs": [],
   "source": [
    "data = pd.read_csv('./share_data/sample/sample_all2_60_15_0', names=['D', 'O', 'no_use_time'])"
   ]
  },
  {
   "cell_type": "code",
   "execution_count": 5,
   "metadata": {},
   "outputs": [],
   "source": [
    "data = data[data.no_use_time.str[-5:-3] < '15']"
   ]
  },
  {
   "cell_type": "code",
   "execution_count": 6,
   "metadata": {},
   "outputs": [
    {
     "output_type": "execute_result",
     "data": {
      "text/plain": [
       "              D      O      no_use_time\n",
       "0           643      0  0 days 00:01:46\n",
       "1           663      0  0 days 00:01:59\n",
       "2           665      0  0 days 00:01:59\n",
       "3           675      0  0 days 00:02:05\n",
       "4           723      0  0 days 00:02:05\n",
       "...         ...    ...              ...\n",
       "29200978  30332  26810  0 days 00:04:33\n",
       "29200979  30333  26810  0 days 00:04:33\n",
       "29200980  30351  26810  0 days 00:04:37\n",
       "29200981  30368  26810  0 days 00:04:43\n",
       "29200982  30373  26810  0 days 00:04:45\n",
       "\n",
       "[29200971 rows x 3 columns]"
      ],
      "text/html": "<div>\n<style scoped>\n    .dataframe tbody tr th:only-of-type {\n        vertical-align: middle;\n    }\n\n    .dataframe tbody tr th {\n        vertical-align: top;\n    }\n\n    .dataframe thead th {\n        text-align: right;\n    }\n</style>\n<table border=\"1\" class=\"dataframe\">\n  <thead>\n    <tr style=\"text-align: right;\">\n      <th></th>\n      <th>D</th>\n      <th>O</th>\n      <th>no_use_time</th>\n    </tr>\n  </thead>\n  <tbody>\n    <tr>\n      <th>0</th>\n      <td>643</td>\n      <td>0</td>\n      <td>0 days 00:01:46</td>\n    </tr>\n    <tr>\n      <th>1</th>\n      <td>663</td>\n      <td>0</td>\n      <td>0 days 00:01:59</td>\n    </tr>\n    <tr>\n      <th>2</th>\n      <td>665</td>\n      <td>0</td>\n      <td>0 days 00:01:59</td>\n    </tr>\n    <tr>\n      <th>3</th>\n      <td>675</td>\n      <td>0</td>\n      <td>0 days 00:02:05</td>\n    </tr>\n    <tr>\n      <th>4</th>\n      <td>723</td>\n      <td>0</td>\n      <td>0 days 00:02:05</td>\n    </tr>\n    <tr>\n      <th>...</th>\n      <td>...</td>\n      <td>...</td>\n      <td>...</td>\n    </tr>\n    <tr>\n      <th>29200978</th>\n      <td>30332</td>\n      <td>26810</td>\n      <td>0 days 00:04:33</td>\n    </tr>\n    <tr>\n      <th>29200979</th>\n      <td>30333</td>\n      <td>26810</td>\n      <td>0 days 00:04:33</td>\n    </tr>\n    <tr>\n      <th>29200980</th>\n      <td>30351</td>\n      <td>26810</td>\n      <td>0 days 00:04:37</td>\n    </tr>\n    <tr>\n      <th>29200981</th>\n      <td>30368</td>\n      <td>26810</td>\n      <td>0 days 00:04:43</td>\n    </tr>\n    <tr>\n      <th>29200982</th>\n      <td>30373</td>\n      <td>26810</td>\n      <td>0 days 00:04:45</td>\n    </tr>\n  </tbody>\n</table>\n<p>29200971 rows × 3 columns</p>\n</div>"
     },
     "metadata": {},
     "execution_count": 6
    }
   ],
   "source": [
    "data"
   ]
  },
  {
   "cell_type": "code",
   "execution_count": 10,
   "metadata": {},
   "outputs": [],
   "source": [
    " r1 = len(data)\n",
    "data['new_D'] = data['D'].apply(change_type)\n",
    "data['new_O'] = data['O'].apply(change_type)\n",
    "new_data = data[~((data['new_D'] == -1) | (data['new_O'] == -1))]\n",
    "new_data = new_data.drop_duplicates(subset=['new_D', 'new_O'])\n",
    "# 有效连接数\n",
    "r2 = len(new_data)\n",
    "# 节点数\n",
    "r3 = len(set(new_data['new_D']) | set(new_data['new_O']))\n",
    "new_data['no_use_time'] = new_data['no_use_time'].apply(get_seconds).astype('int32')\n",
    "G = nx.DiGraph()\n",
    "G.add_weighted_edges_from([(O, D, weight) for O, D, weight in zip(new_data['new_O'], new_data['new_D'], new_data['no_use_time'])])\n",
    "# 拆出来的新点用原始点的字符串\n",
    "new_edges = []\n",
    "left, right = [], []\n",
    "for edge in G.edges():\n",
    "    edge_end = str(edge[1])\n",
    "    new_edge = (edge[0], edge_end)\n",
    "    new_edges.append(new_edge)\n",
    "    left.append(edge[0])\n",
    "    right.append(edge_end)\n",
    "# 构建二分图（有向的）\n",
    "new_G = nx.DiGraph()\n",
    "new_G.add_nodes_from(left, bipartite=0)\n",
    "new_G.add_nodes_from(right, bipartite=1)\n",
    "new_G.add_weighted_edges_from([(O, D, weight) for (O, D), weight in zip(new_edges, new_data['no_use_time'])])\n",
    "nx.is_bipartite(new_G)\n",
    "# 注意此处的匹配是重复了的\n",
    "match = nx.bipartite.hopcroft_karp_matching(new_G, left)\n",
    "match_dict = {k:v for k,v in match.items() if isinstance(k, int)}\n",
    "# 匹配数\n",
    "r4 = len(match_dict)\n",
    "# 最小覆盖路径数\n",
    "r6 = G.number_of_nodes() - len(match_dict)\n",
    "# 基于匹配的边获取调度行程线路\n",
    "path = [[k, int(v)] for k,v in match_dict.items()]\n",
    "while True:\n",
    "    o = [r[0] for r in path]\n",
    "    d = [r[-1] for r in path]\n",
    "    com = set(d) & set(o)\n",
    "    new_route = []\n",
    "    left_route = []\n",
    "    right_route = []\n",
    "    if com:\n",
    "        for c in com:\n",
    "            lf = path[d.index(c)]\n",
    "            rt = path[o.index(c)]\n",
    "            if lf not in (left_route + right_route) and rt not in (left_route + right_route):\n",
    "                left_route.append(lf)\n",
    "                right_route.append(rt)\n",
    "                new_route.append(lf[:-1] + rt)\n",
    "        for i in range(len(new_route)):\n",
    "            path.remove(left_route[i])\n",
    "            path.remove(right_route[i])\n",
    "            path.append(new_route[i])\n",
    "    else:\n",
    "        break\n",
    "s = 0\n",
    "match_nodes = []\n",
    "for r in path:\n",
    "    s += (len(r) -1)\n",
    "    match_nodes.extend(r)\n",
    "# 匹配路径数\n",
    "r7 = len(path)\n",
    "# 匹配节点数\n",
    "r5 = len(match_nodes)\n",
    "new_data.set_index([new_data.new_O, new_data.new_D], drop=True, inplace=True)\n",
    "ind = [(k, int(v)) for k,v in match_dict.items()]\n",
    "no_use_time_sum = new_data.loc[ind, 'no_use_time'].sum()\n",
    "# 匹配节点的空驶时间\n",
    "r8 = no_use_time_sum\n",
    "# 匹配节点的空驶时间\n",
    "r8 = no_use_time_sum\n",
    "r9 = r8/r5"
   ]
  },
  {
   "cell_type": "code",
   "execution_count": 15,
   "metadata": {},
   "outputs": [
    {
     "output_type": "execute_result",
     "data": {
      "text/plain": [
       "(30284, 4436)"
      ]
     },
     "metadata": {},
     "execution_count": 15
    }
   ],
   "source": [
    "r5, r7"
   ]
  },
  {
   "cell_type": "code",
   "execution_count": 26,
   "metadata": {},
   "outputs": [],
   "source": [
    "od_match = [[r[0],r[-1]] for r in path]"
   ]
  },
  {
   "cell_type": "code",
   "execution_count": 7,
   "metadata": {},
   "outputs": [],
   "source": [
    "all_data = pd.read_csv('./data/day_data/sample_data_2.csv')"
   ]
  },
  {
   "cell_type": "code",
   "execution_count": 14,
   "metadata": {},
   "outputs": [
    {
     "output_type": "execute_result",
     "data": {
      "text/plain": [
       "30380"
      ]
     },
     "metadata": {},
     "execution_count": 14
    }
   ],
   "source": [
    "len(all_data)"
   ]
  },
  {
   "cell_type": "code",
   "execution_count": 23,
   "metadata": {},
   "outputs": [],
   "source": [
    "no_match = set(all_data.index) - set(match_nodes)"
   ]
  },
  {
   "cell_type": "code",
   "execution_count": 33,
   "metadata": {},
   "outputs": [
    {
     "output_type": "execute_result",
     "data": {
      "text/plain": [
       "(4532, 96)"
      ]
     },
     "metadata": {},
     "execution_count": 33
    }
   ],
   "source": [
    "len(no_match) + len(od_match), len(no_match)"
   ]
  },
  {
   "cell_type": "code",
   "execution_count": 34,
   "metadata": {},
   "outputs": [],
   "source": [
    "no_match = list(no_match)"
   ]
  },
  {
   "cell_type": "code",
   "execution_count": 30,
   "metadata": {},
   "outputs": [],
   "source": [
    "qj_data = pd.DataFrame(np.zeros((4532, 2)))"
   ]
  },
  {
   "cell_type": "code",
   "execution_count": 31,
   "metadata": {},
   "outputs": [],
   "source": [
    "qj_data.columns = ['O', 'D']"
   ]
  },
  {
   "cell_type": "code",
   "execution_count": 37,
   "metadata": {},
   "outputs": [],
   "source": [
    "for i,j in enumerate(no_match):\n",
    "    qj_data['O'][i] = all_data['pickup_datetime'][j]\n",
    "    qj_data['D'][i] = all_data['dropoff_datetime'][j]"
   ]
  },
  {
   "cell_type": "code",
   "execution_count": 39,
   "metadata": {},
   "outputs": [],
   "source": [
    "for ind, (i,j) in enumerate(od_match):\n",
    "    qj_data['O'][ind + 96] = all_data['pickup_datetime'][i]\n",
    "    qj_data['D'][ind + 96] = all_data['dropoff_datetime'][j]"
   ]
  },
  {
   "cell_type": "code",
   "execution_count": 40,
   "metadata": {},
   "outputs": [
    {
     "output_type": "execute_result",
     "data": {
      "text/plain": [
       "                        O                    D\n",
       "0     2014-01-01 01:13:00  2014-01-01 01:40:48\n",
       "1     2014-01-01 01:06:00  2014-01-01 01:31:42\n",
       "2     2014-01-01 00:12:30  2014-01-01 00:20:14\n",
       "3     2014-01-01 00:06:21  2014-01-01 00:28:33\n",
       "4     2014-01-01 00:12:37  2014-01-01 00:32:30\n",
       "...                   ...                  ...\n",
       "4527  2014-01-01 00:01:00  2014-01-01 01:12:20\n",
       "4528  2014-01-01 00:02:00  2014-01-01 01:19:25\n",
       "4529  2014-01-01 00:00:00  2014-01-01 01:18:34\n",
       "4530  2014-01-01 00:03:34  2014-01-01 01:14:06\n",
       "4531  2014-01-01 00:00:00  2014-01-01 01:26:19\n",
       "\n",
       "[4532 rows x 2 columns]"
      ],
      "text/html": "<div>\n<style scoped>\n    .dataframe tbody tr th:only-of-type {\n        vertical-align: middle;\n    }\n\n    .dataframe tbody tr th {\n        vertical-align: top;\n    }\n\n    .dataframe thead th {\n        text-align: right;\n    }\n</style>\n<table border=\"1\" class=\"dataframe\">\n  <thead>\n    <tr style=\"text-align: right;\">\n      <th></th>\n      <th>O</th>\n      <th>D</th>\n    </tr>\n  </thead>\n  <tbody>\n    <tr>\n      <th>0</th>\n      <td>2014-01-01 01:13:00</td>\n      <td>2014-01-01 01:40:48</td>\n    </tr>\n    <tr>\n      <th>1</th>\n      <td>2014-01-01 01:06:00</td>\n      <td>2014-01-01 01:31:42</td>\n    </tr>\n    <tr>\n      <th>2</th>\n      <td>2014-01-01 00:12:30</td>\n      <td>2014-01-01 00:20:14</td>\n    </tr>\n    <tr>\n      <th>3</th>\n      <td>2014-01-01 00:06:21</td>\n      <td>2014-01-01 00:28:33</td>\n    </tr>\n    <tr>\n      <th>4</th>\n      <td>2014-01-01 00:12:37</td>\n      <td>2014-01-01 00:32:30</td>\n    </tr>\n    <tr>\n      <th>...</th>\n      <td>...</td>\n      <td>...</td>\n    </tr>\n    <tr>\n      <th>4527</th>\n      <td>2014-01-01 00:01:00</td>\n      <td>2014-01-01 01:12:20</td>\n    </tr>\n    <tr>\n      <th>4528</th>\n      <td>2014-01-01 00:02:00</td>\n      <td>2014-01-01 01:19:25</td>\n    </tr>\n    <tr>\n      <th>4529</th>\n      <td>2014-01-01 00:00:00</td>\n      <td>2014-01-01 01:18:34</td>\n    </tr>\n    <tr>\n      <th>4530</th>\n      <td>2014-01-01 00:03:34</td>\n      <td>2014-01-01 01:14:06</td>\n    </tr>\n    <tr>\n      <th>4531</th>\n      <td>2014-01-01 00:00:00</td>\n      <td>2014-01-01 01:26:19</td>\n    </tr>\n  </tbody>\n</table>\n<p>4532 rows × 2 columns</p>\n</div>"
     },
     "metadata": {},
     "execution_count": 40
    }
   ],
   "source": [
    "qj_data"
   ]
  },
  {
   "cell_type": "code",
   "execution_count": 45,
   "metadata": {},
   "outputs": [],
   "source": [
    "sort_data = pd.DataFrame(np.zeros((4532*2, 2)))\n",
    "sort_data.columns = ['point', 'values']"
   ]
  },
  {
   "cell_type": "code",
   "execution_count": 47,
   "metadata": {},
   "outputs": [],
   "source": [
    "sort_data['point'] = qj_data['O'].tolist() + qj_data['D'].tolist()"
   ]
  },
  {
   "cell_type": "code",
   "execution_count": 49,
   "metadata": {},
   "outputs": [],
   "source": [
    "sort_data['values'] = [1]*4532 + [-1]*4532"
   ]
  },
  {
   "cell_type": "code",
   "execution_count": 52,
   "metadata": {},
   "outputs": [],
   "source": [
    "sort_data = sort_data.sort_values(['point', 'values'])"
   ]
  },
  {
   "cell_type": "code",
   "execution_count": 54,
   "metadata": {},
   "outputs": [],
   "source": [
    "sort_data.reset_index(inplace=True)"
   ]
  },
  {
   "cell_type": "code",
   "execution_count": 55,
   "metadata": {},
   "outputs": [
    {
     "output_type": "execute_result",
     "data": {
      "text/plain": [
       "      index                point  values\n",
       "0       285  2014-01-01 00:00:00       1\n",
       "1       288  2014-01-01 00:00:00       1\n",
       "2      1110  2014-01-01 00:00:00       1\n",
       "3      1228  2014-01-01 00:00:00       1\n",
       "4      1268  2014-01-01 00:00:00       1\n",
       "...     ...                  ...     ...\n",
       "9059   6164  2014-01-01 01:47:59      -1\n",
       "9060   4579  2014-01-01 01:48:51      -1\n",
       "9061   7208  2014-01-01 01:49:57      -1\n",
       "9062   4559  2014-01-01 01:53:16      -1\n",
       "9063   7512  2014-01-01 01:55:50      -1\n",
       "\n",
       "[9064 rows x 3 columns]"
      ],
      "text/html": "<div>\n<style scoped>\n    .dataframe tbody tr th:only-of-type {\n        vertical-align: middle;\n    }\n\n    .dataframe tbody tr th {\n        vertical-align: top;\n    }\n\n    .dataframe thead th {\n        text-align: right;\n    }\n</style>\n<table border=\"1\" class=\"dataframe\">\n  <thead>\n    <tr style=\"text-align: right;\">\n      <th></th>\n      <th>index</th>\n      <th>point</th>\n      <th>values</th>\n    </tr>\n  </thead>\n  <tbody>\n    <tr>\n      <th>0</th>\n      <td>285</td>\n      <td>2014-01-01 00:00:00</td>\n      <td>1</td>\n    </tr>\n    <tr>\n      <th>1</th>\n      <td>288</td>\n      <td>2014-01-01 00:00:00</td>\n      <td>1</td>\n    </tr>\n    <tr>\n      <th>2</th>\n      <td>1110</td>\n      <td>2014-01-01 00:00:00</td>\n      <td>1</td>\n    </tr>\n    <tr>\n      <th>3</th>\n      <td>1228</td>\n      <td>2014-01-01 00:00:00</td>\n      <td>1</td>\n    </tr>\n    <tr>\n      <th>4</th>\n      <td>1268</td>\n      <td>2014-01-01 00:00:00</td>\n      <td>1</td>\n    </tr>\n    <tr>\n      <th>...</th>\n      <td>...</td>\n      <td>...</td>\n      <td>...</td>\n    </tr>\n    <tr>\n      <th>9059</th>\n      <td>6164</td>\n      <td>2014-01-01 01:47:59</td>\n      <td>-1</td>\n    </tr>\n    <tr>\n      <th>9060</th>\n      <td>4579</td>\n      <td>2014-01-01 01:48:51</td>\n      <td>-1</td>\n    </tr>\n    <tr>\n      <th>9061</th>\n      <td>7208</td>\n      <td>2014-01-01 01:49:57</td>\n      <td>-1</td>\n    </tr>\n    <tr>\n      <th>9062</th>\n      <td>4559</td>\n      <td>2014-01-01 01:53:16</td>\n      <td>-1</td>\n    </tr>\n    <tr>\n      <th>9063</th>\n      <td>7512</td>\n      <td>2014-01-01 01:55:50</td>\n      <td>-1</td>\n    </tr>\n  </tbody>\n</table>\n<p>9064 rows × 3 columns</p>\n</div>"
     },
     "metadata": {},
     "execution_count": 55
    }
   ],
   "source": [
    "sort_data"
   ]
  },
  {
   "cell_type": "code",
   "execution_count": 58,
   "metadata": {},
   "outputs": [
    {
     "output_type": "execute_result",
     "data": {
      "text/plain": [
       "4337"
      ]
     },
     "metadata": {},
     "execution_count": 58
    }
   ],
   "source": [
    "sort_data['values'].cumsum().max()"
   ]
  },
  {
   "cell_type": "code",
   "execution_count": null,
   "metadata": {},
   "outputs": [],
   "source": []
  }
 ]
}