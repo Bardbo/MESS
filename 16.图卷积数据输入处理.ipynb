{
 "metadata": {
  "language_info": {
   "codemirror_mode": {
    "name": "ipython",
    "version": 3
   },
   "file_extension": ".py",
   "mimetype": "text/x-python",
   "name": "python",
   "nbconvert_exporter": "python",
   "pygments_lexer": "ipython3",
   "version": "3.8.3-final"
  },
  "orig_nbformat": 2,
  "kernelspec": {
   "name": "python3",
   "display_name": "Python 3",
   "language": "python"
  }
 },
 "nbformat": 4,
 "nbformat_minor": 2,
 "cells": [
  {
   "cell_type": "code",
   "execution_count": 1,
   "metadata": {},
   "outputs": [],
   "source": [
    "import pandas as pd\n",
    "import numpy as np\n",
    "import geopandas as gpd\n",
    "import matplotlib.pyplot as plt\n",
    "from shapely.geometry import Point\n",
    "from tqdm import tqdm"
   ]
  },
  {
   "cell_type": "code",
   "execution_count": 2,
   "metadata": {},
   "outputs": [
    {
     "output_type": "stream",
     "name": "stderr",
     "text": [
      "  3%|▎         | 1/31 [00:47<23:59, 47.99s/it]1: 288\n",
      "  6%|▋         | 2/31 [01:34<22:59, 47.58s/it]2: 288\n",
      " 10%|▉         | 3/31 [02:06<20:03, 42.98s/it]3: 288\n",
      " 13%|█▎        | 4/31 [03:00<20:44, 46.10s/it]4: 288\n",
      " 16%|█▌        | 5/31 [03:44<19:40, 45.41s/it]5: 288\n",
      " 19%|█▉        | 6/31 [04:34<19:34, 46.96s/it]6: 288\n",
      " 23%|██▎       | 7/31 [05:35<20:23, 50.98s/it]7: 288\n",
      " 26%|██▌       | 8/31 [06:31<20:09, 52.58s/it]8: 288\n",
      " 29%|██▉       | 9/31 [07:28<19:47, 53.96s/it]9: 288\n",
      " 32%|███▏      | 10/31 [08:28<19:33, 55.87s/it]10: 288\n",
      " 35%|███▌      | 11/31 [09:28<19:01, 57.09s/it]11: 288\n",
      " 39%|███▊      | 12/31 [10:18<17:23, 54.93s/it]12: 288\n",
      " 42%|████▏     | 13/31 [11:08<16:00, 53.35s/it]13: 288\n",
      " 45%|████▌     | 14/31 [12:08<15:43, 55.52s/it]14: 288\n",
      " 48%|████▊     | 15/31 [13:04<14:47, 55.48s/it]15: 288\n",
      " 52%|█████▏    | 16/31 [14:01<13:58, 55.91s/it]16: 288\n",
      " 55%|█████▍    | 17/31 [14:59<13:10, 56.49s/it]17: 288\n",
      " 58%|█████▊    | 18/31 [15:57<12:22, 57.09s/it]18: 288\n",
      " 61%|██████▏   | 19/31 [16:50<11:08, 55.71s/it]19: 288\n",
      " 65%|██████▍   | 20/31 [17:32<09:30, 51.82s/it]20: 288\n",
      " 68%|██████▊   | 21/31 [18:06<07:43, 46.38s/it]21: 288\n",
      " 71%|███████   | 22/31 [18:55<07:04, 47.22s/it]22: 288\n",
      " 74%|███████▍  | 23/31 [19:49<06:33, 49.13s/it]23: 288\n",
      " 77%|███████▋  | 24/31 [20:49<06:07, 52.47s/it]24: 288\n",
      " 81%|████████  | 25/31 [21:52<05:33, 55.55s/it]25: 288\n",
      " 84%|████████▍ | 26/31 [22:43<04:31, 54.39s/it]26: 288\n",
      " 87%|████████▋ | 27/31 [23:33<03:31, 52.97s/it]27: 288\n",
      " 90%|█████████ | 28/31 [24:29<02:41, 53.99s/it]28: 288\n",
      " 94%|█████████▎| 29/31 [25:32<01:53, 56.71s/it]29: 288\n",
      " 97%|█████████▋| 30/31 [26:32<00:57, 57.44s/it]30: 288\n",
      "100%|██████████| 31/31 [27:35<00:00, 53.39s/it]31: 288\n",
      "Wall time: 27min 35s\n",
      "\n"
     ]
    }
   ],
   "source": [
    "%%time\n",
    "manhattan = gpd.read_file('D:\\大论文\\myCode\\ArcGISPro\\predict_map\\Area_64.shp')\n",
    "for i in tqdm(range(1, 32)):\n",
    "    data = pd.read_csv(f'D:\\大论文\\myCode\\data\\day_data\\day_{i}',\n",
    "                        names=[\n",
    "                            'pickup_datetime', 'dropoff_datetime',\n",
    "                            'pickup_longitude', 'pickup_latitude',\n",
    "                            'dropoff_longitude', 'dropoff_latitude', 'O', 'D',\n",
    "                            'duration', 'weekday', 'day', 'hour'\n",
    "                        ])\n",
    "    data = data.sort_values(['pickup_datetime', 'dropoff_datetime'])\n",
    "    O = gpd.GeoDataFrame(data)\n",
    "    # 转为点文件\n",
    "    O['geometry'] = O.apply(lambda x: Point(x['pickup_longitude'], x['pickup_latitude']), axis=1)\n",
    "    # 空间连接\n",
    "    O_sjoin = gpd.sjoin(O, manhattan, op='intersects')\n",
    "    O_sjoin['pickup_datetime'] = pd.to_datetime(O_sjoin['pickup_datetime'])\n",
    "    df = O_sjoin.pivot_table('hour', 'pickup_datetime', 'index_right', aggfunc='count', fill_value=0)\n",
    "    use_data = df.resample('5T').sum()\n",
    "    use_data.to_csv(f'D:\\大论文\\myCode\\data\\predict_data\\predict_5T_{i}.csv')\n",
    "    print(f'{i}: {len(use_data)}')"
   ]
  },
  {
   "source": [
    "## 一月的数据合并"
   ],
   "cell_type": "markdown",
   "metadata": {}
  },
  {
   "cell_type": "code",
   "execution_count": 3,
   "metadata": {},
   "outputs": [],
   "source": [
    "data_month = pd.read_csv('D:\\大论文\\myCode\\data\\predict_data\\predict_5T_1.csv')\n",
    "for i in range(2, 32):\n",
    "    data = pd.read_csv(f'D:\\大论文\\myCode\\data\\predict_data\\predict_5T_{i}.csv')\n",
    "    data_month = pd.concat([data_month, data])"
   ]
  },
  {
   "cell_type": "code",
   "execution_count": 4,
   "metadata": {},
   "outputs": [],
   "source": [
    "data_month['pickup_datetime'] = pd.to_datetime(data_month['pickup_datetime'])"
   ]
  },
  {
   "source": [
    "data_month['day'] = data_month['pickup_datetime'].dt.day\n",
    "data_month['weekday'] = data_month['pickup_datetime'].dt.weekday\n",
    "data_month['hour'] = data_month['pickup_datetime'].dt.hour"
   ],
   "cell_type": "code",
   "metadata": {},
   "execution_count": 5,
   "outputs": []
  },
  {
   "cell_type": "code",
   "execution_count": 24,
   "metadata": {},
   "outputs": [],
   "source": [
    "data_month = data_month.fillna(0)"
   ]
  },
  {
   "cell_type": "code",
   "execution_count": 25,
   "metadata": {},
   "outputs": [],
   "source": [
    "# 数据转矩阵并保存"
   ]
  },
  {
   "cell_type": "code",
   "execution_count": 26,
   "metadata": {},
   "outputs": [],
   "source": [
    "data_demand = np.array(data_month.T.iloc[1:-3])[:, np.newaxis, :]"
   ]
  },
  {
   "cell_type": "code",
   "execution_count": 27,
   "metadata": {},
   "outputs": [],
   "source": [
    "date_features = np.expand_dims(np.array(data_month.T.iloc[-3:]), 0).repeat(64, axis=0)"
   ]
  },
  {
   "cell_type": "code",
   "execution_count": 28,
   "metadata": {},
   "outputs": [],
   "source": [
    "data_4inputs = np.concatenate((data_demand, date_features), axis=1)"
   ]
  },
  {
   "cell_type": "code",
   "execution_count": 29,
   "metadata": {},
   "outputs": [],
   "source": [
    "np.save(r'C:\\Users\\Administrator\\Desktop\\st_model\\STGCN-PyTorch-master\\data\\manhattan_node_values_1d.npy', data_demand)"
   ]
  },
  {
   "cell_type": "code",
   "execution_count": 30,
   "metadata": {},
   "outputs": [],
   "source": [
    "np.save(r'C:\\Users\\Administrator\\Desktop\\st_model\\STGCN-PyTorch-master\\data\\manhattan_node_values_4d.npy', data_4inputs)"
   ]
  },
  {
   "source": [
    "## 面邻域转邻接矩阵"
   ],
   "cell_type": "markdown",
   "metadata": {}
  },
  {
   "cell_type": "code",
   "execution_count": 2,
   "metadata": {},
   "outputs": [],
   "source": [
    "area_neighbor = pd.read_excel('D:\\大论文\\myCode\\ArcGISPro\\predict_map\\polygon_neighbor.xlsx')"
   ]
  },
  {
   "cell_type": "code",
   "execution_count": 3,
   "metadata": {},
   "outputs": [
    {
     "output_type": "execute_result",
     "data": {
      "text/plain": [
       "{35}"
      ]
     },
     "metadata": {},
     "execution_count": 3
    }
   ],
   "source": [
    "# 由于面35在GIS中是孤立的，因此其没有领域面，实际上该面的邻域认为是25和24\n",
    "set([i for i in range(64)]) - set(area_neighbor.src_FID)"
   ]
  },
  {
   "cell_type": "code",
   "execution_count": 5,
   "metadata": {},
   "outputs": [],
   "source": [
    "edge = area_neighbor[['src_FID', 'nbr_FID']]"
   ]
  },
  {
   "cell_type": "code",
   "execution_count": 12,
   "metadata": {},
   "outputs": [],
   "source": [
    "edge = edge.append([{'src_FID':i, 'nbr_FID':j} for i,j in zip([35,35,25,24], [25,24,35,35])], ignore_index=True)"
   ]
  },
  {
   "cell_type": "code",
   "execution_count": 13,
   "metadata": {},
   "outputs": [],
   "source": [
    "edge.to_csv(r'C:\\Users\\Administrator\\Desktop\\edge.csv', index=False)"
   ]
  },
  {
   "cell_type": "code",
   "execution_count": null,
   "metadata": {},
   "outputs": [],
   "source": [
    "# 邻接矩阵"
   ]
  },
  {
   "cell_type": "code",
   "execution_count": 7,
   "metadata": {},
   "outputs": [
    {
     "output_type": "execute_result",
     "data": {
      "text/plain": [
       "     OBJECTID  src_FID  nbr_FID    LENGTH  NODE_COUNT\n",
       "0           1        0       13  0.009848           0\n",
       "1           2        0       32  0.000000           1\n",
       "2           3        0       46  0.006994           0\n",
       "3           4        0       50  0.010740           0\n",
       "4           5        1        2  0.001169           0\n",
       "..        ...      ...      ...       ...         ...\n",
       "317       318       63       12  0.005003           0\n",
       "318       319       63       27  0.000000           1\n",
       "319       320       63       28  0.005002           0\n",
       "320       321       63       53  0.013506           0\n",
       "321       322       63       62  0.013505           0\n",
       "\n",
       "[322 rows x 5 columns]"
      ],
      "text/html": "<div>\n<style scoped>\n    .dataframe tbody tr th:only-of-type {\n        vertical-align: middle;\n    }\n\n    .dataframe tbody tr th {\n        vertical-align: top;\n    }\n\n    .dataframe thead th {\n        text-align: right;\n    }\n</style>\n<table border=\"1\" class=\"dataframe\">\n  <thead>\n    <tr style=\"text-align: right;\">\n      <th></th>\n      <th>OBJECTID</th>\n      <th>src_FID</th>\n      <th>nbr_FID</th>\n      <th>LENGTH</th>\n      <th>NODE_COUNT</th>\n    </tr>\n  </thead>\n  <tbody>\n    <tr>\n      <th>0</th>\n      <td>1</td>\n      <td>0</td>\n      <td>13</td>\n      <td>0.009848</td>\n      <td>0</td>\n    </tr>\n    <tr>\n      <th>1</th>\n      <td>2</td>\n      <td>0</td>\n      <td>32</td>\n      <td>0.000000</td>\n      <td>1</td>\n    </tr>\n    <tr>\n      <th>2</th>\n      <td>3</td>\n      <td>0</td>\n      <td>46</td>\n      <td>0.006994</td>\n      <td>0</td>\n    </tr>\n    <tr>\n      <th>3</th>\n      <td>4</td>\n      <td>0</td>\n      <td>50</td>\n      <td>0.010740</td>\n      <td>0</td>\n    </tr>\n    <tr>\n      <th>4</th>\n      <td>5</td>\n      <td>1</td>\n      <td>2</td>\n      <td>0.001169</td>\n      <td>0</td>\n    </tr>\n    <tr>\n      <th>...</th>\n      <td>...</td>\n      <td>...</td>\n      <td>...</td>\n      <td>...</td>\n      <td>...</td>\n    </tr>\n    <tr>\n      <th>317</th>\n      <td>318</td>\n      <td>63</td>\n      <td>12</td>\n      <td>0.005003</td>\n      <td>0</td>\n    </tr>\n    <tr>\n      <th>318</th>\n      <td>319</td>\n      <td>63</td>\n      <td>27</td>\n      <td>0.000000</td>\n      <td>1</td>\n    </tr>\n    <tr>\n      <th>319</th>\n      <td>320</td>\n      <td>63</td>\n      <td>28</td>\n      <td>0.005002</td>\n      <td>0</td>\n    </tr>\n    <tr>\n      <th>320</th>\n      <td>321</td>\n      <td>63</td>\n      <td>53</td>\n      <td>0.013506</td>\n      <td>0</td>\n    </tr>\n    <tr>\n      <th>321</th>\n      <td>322</td>\n      <td>63</td>\n      <td>62</td>\n      <td>0.013505</td>\n      <td>0</td>\n    </tr>\n  </tbody>\n</table>\n<p>322 rows × 5 columns</p>\n</div>"
     },
     "metadata": {},
     "execution_count": 7
    }
   ],
   "source": [
    "area_neighbor"
   ]
  },
  {
   "cell_type": "code",
   "execution_count": 9,
   "metadata": {},
   "outputs": [],
   "source": [
    "adj_mat = np.zeros((64, 64))"
   ]
  },
  {
   "cell_type": "code",
   "execution_count": 10,
   "metadata": {},
   "outputs": [],
   "source": [
    "for i, j in zip(area_neighbor.src_FID, area_neighbor.nbr_FID):\n",
    "    adj_mat[i][j] = 1\n",
    "for i, j in zip([35, 35, 25, 24], [25, 24, 35, 35]):\n",
    "    adj_mat[i][j] = 1"
   ]
  },
  {
   "cell_type": "code",
   "execution_count": 14,
   "metadata": {},
   "outputs": [],
   "source": [
    "# np.save('manhattan_adj_mat.npy', adj_mat)\n",
    "np.save(r'C:\\Users\\Administrator\\Desktop\\st_model\\STGCN-PyTorch-master\\data\\manhattan_adj_mat.npy', adj_mat)"
   ]
  },
  {
   "cell_type": "code",
   "execution_count": 5,
   "metadata": {},
   "outputs": [],
   "source": [
    "# X = np.load(r'C:\\Users\\Administrator\\Desktop\\st_model\\mydata\\manhattan_node_values_1d.npy', allow_pickle=True)"
   ]
  },
  {
   "cell_type": "code",
   "execution_count": 16,
   "metadata": {},
   "outputs": [],
   "source": [
    "# X.shape"
   ]
  },
  {
   "cell_type": "code",
   "execution_count": null,
   "metadata": {},
   "outputs": [],
   "source": []
  }
 ]
}