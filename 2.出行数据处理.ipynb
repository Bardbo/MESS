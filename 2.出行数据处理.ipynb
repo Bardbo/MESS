{
 "metadata": {
  "language_info": {
   "codemirror_mode": {
    "name": "ipython",
    "version": 3
   },
   "file_extension": ".py",
   "mimetype": "text/x-python",
   "name": "python",
   "nbconvert_exporter": "python",
   "pygments_lexer": "ipython3",
   "version": "3.8.3-final"
  },
  "orig_nbformat": 2,
  "kernelspec": {
   "name": "python3",
   "display_name": "Python 3"
  }
 },
 "nbformat": 4,
 "nbformat_minor": 2,
 "cells": [
  {
   "cell_type": "code",
   "execution_count": 1,
   "metadata": {},
   "outputs": [],
   "source": [
    "import pandas as pd"
   ]
  },
  {
   "source": [
    "## 1. 读取数据\n",
    "此处读取为2014年1月数据"
   ],
   "cell_type": "markdown",
   "metadata": {}
  },
  {
   "cell_type": "code",
   "execution_count": 2,
   "metadata": {},
   "outputs": [],
   "source": [
    "data = pd.read_csv('./data/tripdata/yellow_tripdata_2014-01.csv')"
   ]
  },
  {
   "cell_type": "code",
   "execution_count": 3,
   "metadata": {},
   "outputs": [],
   "source": [
    "df = data[['pickup_datetime', 'dropoff_datetime', 'pickup_longitude', 'pickup_latitude', 'dropoff_longitude', 'dropoff_latitude']]"
   ]
  },
  {
   "cell_type": "code",
   "execution_count": 4,
   "metadata": {},
   "outputs": [
    {
     "output_type": "execute_result",
     "data": {
      "text/plain": [
       "              pickup_datetime     dropoff_datetime  pickup_longitude  \\\n",
       "0         2014-01-09 20:45:25  2014-01-09 20:52:31        -73.994770   \n",
       "1         2014-01-09 20:46:12  2014-01-09 20:55:12        -73.982392   \n",
       "2         2014-01-09 20:44:47  2014-01-09 20:59:46        -73.988570   \n",
       "3         2014-01-09 20:44:57  2014-01-09 20:51:40        -73.960213   \n",
       "4         2014-01-09 20:47:09  2014-01-09 20:53:32        -73.995371   \n",
       "...                       ...                  ...               ...   \n",
       "13782487  2014-01-06 13:12:00  2014-01-06 13:34:00        -73.993977   \n",
       "13782488  2014-01-06 13:22:00  2014-01-06 13:36:00        -73.986945   \n",
       "13782489  2014-01-06 13:32:00  2014-01-06 13:35:00        -73.974737   \n",
       "13782490  2014-01-06 13:31:00  2014-01-06 13:34:00        -73.975580   \n",
       "13782491  2014-01-06 13:25:00  2014-01-06 13:34:00        -73.944337   \n",
       "\n",
       "          pickup_latitude  dropoff_longitude  dropoff_latitude  \n",
       "0               40.736828         -73.982227         40.731790  \n",
       "1               40.773382         -73.960449         40.763995  \n",
       "2               40.739406         -73.986626         40.765217  \n",
       "3               40.770464         -73.979863         40.777050  \n",
       "4               40.717248         -73.984367         40.720524  \n",
       "...                   ...                ...               ...  \n",
       "13782487        40.751317         -73.960392         40.811585  \n",
       "13782488        40.736702         -73.998535         40.739857  \n",
       "13782489        40.742057         -73.977228         40.746112  \n",
       "13782490        40.759062         -73.983370         40.756030  \n",
       "13782491        40.791930         -73.954465         40.779110  \n",
       "\n",
       "[13782492 rows x 6 columns]"
      ],
      "text/html": "<div>\n<style scoped>\n    .dataframe tbody tr th:only-of-type {\n        vertical-align: middle;\n    }\n\n    .dataframe tbody tr th {\n        vertical-align: top;\n    }\n\n    .dataframe thead th {\n        text-align: right;\n    }\n</style>\n<table border=\"1\" class=\"dataframe\">\n  <thead>\n    <tr style=\"text-align: right;\">\n      <th></th>\n      <th>pickup_datetime</th>\n      <th>dropoff_datetime</th>\n      <th>pickup_longitude</th>\n      <th>pickup_latitude</th>\n      <th>dropoff_longitude</th>\n      <th>dropoff_latitude</th>\n    </tr>\n  </thead>\n  <tbody>\n    <tr>\n      <th>0</th>\n      <td>2014-01-09 20:45:25</td>\n      <td>2014-01-09 20:52:31</td>\n      <td>-73.994770</td>\n      <td>40.736828</td>\n      <td>-73.982227</td>\n      <td>40.731790</td>\n    </tr>\n    <tr>\n      <th>1</th>\n      <td>2014-01-09 20:46:12</td>\n      <td>2014-01-09 20:55:12</td>\n      <td>-73.982392</td>\n      <td>40.773382</td>\n      <td>-73.960449</td>\n      <td>40.763995</td>\n    </tr>\n    <tr>\n      <th>2</th>\n      <td>2014-01-09 20:44:47</td>\n      <td>2014-01-09 20:59:46</td>\n      <td>-73.988570</td>\n      <td>40.739406</td>\n      <td>-73.986626</td>\n      <td>40.765217</td>\n    </tr>\n    <tr>\n      <th>3</th>\n      <td>2014-01-09 20:44:57</td>\n      <td>2014-01-09 20:51:40</td>\n      <td>-73.960213</td>\n      <td>40.770464</td>\n      <td>-73.979863</td>\n      <td>40.777050</td>\n    </tr>\n    <tr>\n      <th>4</th>\n      <td>2014-01-09 20:47:09</td>\n      <td>2014-01-09 20:53:32</td>\n      <td>-73.995371</td>\n      <td>40.717248</td>\n      <td>-73.984367</td>\n      <td>40.720524</td>\n    </tr>\n    <tr>\n      <th>...</th>\n      <td>...</td>\n      <td>...</td>\n      <td>...</td>\n      <td>...</td>\n      <td>...</td>\n      <td>...</td>\n    </tr>\n    <tr>\n      <th>13782487</th>\n      <td>2014-01-06 13:12:00</td>\n      <td>2014-01-06 13:34:00</td>\n      <td>-73.993977</td>\n      <td>40.751317</td>\n      <td>-73.960392</td>\n      <td>40.811585</td>\n    </tr>\n    <tr>\n      <th>13782488</th>\n      <td>2014-01-06 13:22:00</td>\n      <td>2014-01-06 13:36:00</td>\n      <td>-73.986945</td>\n      <td>40.736702</td>\n      <td>-73.998535</td>\n      <td>40.739857</td>\n    </tr>\n    <tr>\n      <th>13782489</th>\n      <td>2014-01-06 13:32:00</td>\n      <td>2014-01-06 13:35:00</td>\n      <td>-73.974737</td>\n      <td>40.742057</td>\n      <td>-73.977228</td>\n      <td>40.746112</td>\n    </tr>\n    <tr>\n      <th>13782490</th>\n      <td>2014-01-06 13:31:00</td>\n      <td>2014-01-06 13:34:00</td>\n      <td>-73.975580</td>\n      <td>40.759062</td>\n      <td>-73.983370</td>\n      <td>40.756030</td>\n    </tr>\n    <tr>\n      <th>13782491</th>\n      <td>2014-01-06 13:25:00</td>\n      <td>2014-01-06 13:34:00</td>\n      <td>-73.944337</td>\n      <td>40.791930</td>\n      <td>-73.954465</td>\n      <td>40.779110</td>\n    </tr>\n  </tbody>\n</table>\n<p>13782492 rows × 6 columns</p>\n</div>"
     },
     "metadata": {},
     "execution_count": 4
    }
   ],
   "source": [
    "df"
   ]
  },
  {
   "cell_type": "code",
   "execution_count": 5,
   "metadata": {},
   "outputs": [],
   "source": [
    "len_df = len(df)"
   ]
  },
  {
   "source": [
    "## 2. 去除空值"
   ],
   "cell_type": "markdown",
   "metadata": {}
  },
  {
   "cell_type": "code",
   "execution_count": 6,
   "metadata": {},
   "outputs": [],
   "source": [
    "df.dropna(axis=0, how='any', inplace=True)"
   ]
  },
  {
   "cell_type": "code",
   "execution_count": 7,
   "metadata": {},
   "outputs": [
    {
     "output_type": "execute_result",
     "data": {
      "text/plain": [
       "(13782347, 145)"
      ]
     },
     "metadata": {},
     "execution_count": 7
    }
   ],
   "source": [
    "len(df), len_df - len(df)"
   ]
  },
  {
   "cell_type": "code",
   "execution_count": 9,
   "metadata": {},
   "outputs": [],
   "source": [
    "df.to_csv('./data/use_yellow_tripdata_2014-01.csv', index=False, header=None)"
   ]
  },
  {
   "cell_type": "code",
   "execution_count": null,
   "metadata": {},
   "outputs": [],
   "source": []
  }
 ]
}