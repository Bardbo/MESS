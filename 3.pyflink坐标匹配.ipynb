{
 "metadata": {
  "language_info": {
   "codemirror_mode": {
    "name": "ipython",
    "version": 3
   },
   "file_extension": ".py",
   "mimetype": "text/x-python",
   "name": "python",
   "nbconvert_exporter": "python",
   "pygments_lexer": "ipython3",
   "version": "3.7.9-final"
  },
  "orig_nbformat": 2,
  "kernelspec": {
   "name": "Python 3.7.9 64-bit ('pyflink': conda)",
   "display_name": "Python 3.7.9 64-bit ('pyflink': conda)",
   "metadata": {
    "interpreter": {
     "hash": "7bca0ce4226e4924b4545d046c28abde24880ab05ecbea8b1861f617641dc344"
    }
   }
  }
 },
 "nbformat": 4,
 "nbformat_minor": 2,
 "cells": [
  {
   "cell_type": "code",
   "execution_count": 1,
   "metadata": {},
   "outputs": [],
   "source": [
    "import pandas as pd\n",
    "import numpy as np\n",
    "from pyflink.datastream import StreamExecutionEnvironment\n",
    "from pyflink.table import StreamTableEnvironment, DataTypes, CsvTableSource\n",
    "from pyflink.table.descriptors import Schema, OldCsv, FileSystem\n",
    "from pyflink.table.udf import udf\n",
    "import os\n",
    "import time\n",
    "from datetime import datetime"
   ]
  },
  {
   "cell_type": "code",
   "execution_count": 2,
   "metadata": {},
   "outputs": [],
   "source": [
    "# 环境等设置\n",
    "env = StreamExecutionEnvironment.get_execution_environment()\n",
    "# env.set_parallelism(8)\n",
    "t_env = StreamTableEnvironment.create(env)\n",
    "t_env.get_config().get_configuration().set_string(\"taskmanager.memory.task.off-heap.size\", '80m')\n",
    "t_env.get_config().get_configuration().set_string(\"python.fn-execution.arrow.batch.size\", '300000')"
   ]
  },
  {
   "cell_type": "code",
   "execution_count": 3,
   "metadata": {},
   "outputs": [
    {
     "output_type": "execute_result",
     "data": {
      "text/plain": [
       "<pyflink.table.descriptors.StreamTableDescriptor at 0x203245c94c8>"
      ]
     },
     "metadata": {},
     "execution_count": 3
    }
   ],
   "source": [
    "# 输入表创建\n",
    "t_env.connect(FileSystem().path('./data/use_yellow_tripdata_2014-01.csv')) \\\n",
    "    .with_format(OldCsv()\n",
    "                 .field('pickup_datetime', DataTypes.STRING())\n",
    "                 .field('dropoff_datetime', DataTypes.STRING())\n",
    "                 .field('pickup_longitude', DataTypes.FLOAT())\n",
    "                 .field('pickup_latitude', DataTypes.FLOAT())\n",
    "                 .field('dropoff_longitude', DataTypes.FLOAT())\n",
    "                 .field('dropoff_latitude', DataTypes.FLOAT())) \\\n",
    "    .with_schema(Schema()\n",
    "                 .field('pickup_datetime', DataTypes.STRING())\n",
    "                 .field('dropoff_datetime', DataTypes.STRING())\n",
    "                 .field('pickup_longitude', DataTypes.FLOAT())\n",
    "                 .field('pickup_latitude', DataTypes.FLOAT())\n",
    "                 .field('dropoff_longitude', DataTypes.FLOAT())\n",
    "                 .field('dropoff_latitude', DataTypes.FLOAT())) \\\n",
    "    .create_temporary_table('mySource')"
   ]
  },
  {
   "cell_type": "code",
   "execution_count": 4,
   "metadata": {},
   "outputs": [
    {
     "output_type": "execute_result",
     "data": {
      "text/plain": [
       "<pyflink.table.descriptors.StreamTableDescriptor at 0x203245f57c8>"
      ]
     },
     "metadata": {},
     "execution_count": 4
    }
   ],
   "source": [
    "t_env.connect(FileSystem().path('./data/map_matching')) \\\n",
    "    .with_format(OldCsv()\n",
    "                 .field('pickup_datetime', DataTypes.STRING())\n",
    "                 .field('dropoff_datetime', DataTypes.STRING())\n",
    "                 .field('pickup_longitude', DataTypes.FLOAT())\n",
    "                 .field('pickup_latitude', DataTypes.FLOAT())\n",
    "                 .field('dropoff_longitude', DataTypes.FLOAT())\n",
    "                 .field('dropoff_latitude', DataTypes.FLOAT())\n",
    "                 .field('O', DataTypes.BIGINT())\n",
    "                 .field('D', DataTypes.BIGINT())\n",
    "                 .field('same_od', DataTypes.BIGINT())\n",
    "                 .field('duration', DataTypes.BIGINT())\n",
    "                 .field('weekday', DataTypes.BIGINT())\n",
    "                 .field('day', DataTypes.BIGINT())\n",
    "                 .field('hour', DataTypes.BIGINT())\n",
    "                 ) \\\n",
    "    .with_schema(Schema()\n",
    "                 .field('pickup_datetime', DataTypes.STRING())\n",
    "                 .field('dropoff_datetime', DataTypes.STRING())\n",
    "                 .field('pickup_longitude', DataTypes.FLOAT())\n",
    "                 .field('pickup_latitude', DataTypes.FLOAT())\n",
    "                 .field('dropoff_longitude', DataTypes.FLOAT())\n",
    "                 .field('dropoff_latitude', DataTypes.FLOAT())\n",
    "                 .field('O', DataTypes.BIGINT())\n",
    "                 .field('D', DataTypes.BIGINT())\n",
    "                 .field('same_od', DataTypes.BIGINT())\n",
    "                 .field('duration', DataTypes.BIGINT())\n",
    "                 .field('weekday', DataTypes.BIGINT())\n",
    "                 .field('day', DataTypes.BIGINT())\n",
    "                 .field('hour', DataTypes.BIGINT())\n",
    "                 ) \\\n",
    "    .create_temporary_table('mySink')"
   ]
  },
  {
   "cell_type": "code",
   "execution_count": 5,
   "metadata": {},
   "outputs": [
    {
     "output_type": "execute_result",
     "data": {
      "text/plain": [
       "(4014, 2)"
      ]
     },
     "metadata": {},
     "execution_count": 5
    }
   ],
   "source": [
    "# 交叉口经纬度数据读取\n",
    "data = pd.read_csv('./data/nodes_lonlat.csv', header=None)\n",
    "coor = data.to_numpy()\n",
    "coor.shape"
   ]
  },
  {
   "cell_type": "code",
   "execution_count": 6,
   "metadata": {},
   "outputs": [],
   "source": [
    "# udf编写与注册\n",
    "# 坐标匹配函数,不匹配返回-1\n",
    "@udf(input_types=[DataTypes.FLOAT(), DataTypes.FLOAT(),\n",
    "     DataTypes.ARRAY(DataTypes.FLOAT()), DataTypes.ARRAY(DataTypes.FLOAT())], result_type=DataTypes.BIGINT())\n",
    "def distance_meters(lng1, lat1, lng2=coor[:, 0], lat2=coor[:, 1]):\n",
    "    temp = (np.sin((lng2-lng1)/2*np.pi/180)**2 + np.cos(lng1*np.pi/180)*np.cos(lng2*np.pi/180)*np.sin((lat2-lat1)/2*np.pi/180)**2)\n",
    "    distance = 2*np.arctan2(np.sqrt(temp), np.sqrt(1-temp))\n",
    "    distance = distance*3958.8*1609.344\n",
    "\n",
    "    buffer=100\n",
    "    if (distance <= buffer).sum() > 0:\n",
    "        return distance.argmin()\n",
    "    else:\n",
    "        return -1\n",
    "\n",
    "t_env.register_function(\"distance_meters\", distance_meters)"
   ]
  },
  {
   "cell_type": "code",
   "execution_count": 7,
   "metadata": {},
   "outputs": [],
   "source": [
    "# 相同起终点计算函数, 相同返回1, 不相同返回0\n",
    "@udf(input_types=[DataTypes.BIGINT(), DataTypes.BIGINT()], result_type=DataTypes.BIGINT())\n",
    "def is_same_od(o, d):\n",
    "    return 1 if o == d else 0\n",
    "\n",
    "t_env.register_function('is_same_od', is_same_od)"
   ]
  },
  {
   "cell_type": "code",
   "execution_count": 8,
   "metadata": {},
   "outputs": [],
   "source": [
    "# 计算行程时间, 返回行程时间的秒或者-1\n",
    "@udf(input_types=[DataTypes.STRING(), DataTypes.STRING()], result_type=DataTypes.BIGINT())\n",
    "def compute_duration_time(pickup_time, dropoff_time):\n",
    "    try:\n",
    "        pickup_time = datetime.strptime(pickup_time, '%Y-%m-%d %H:%M:%S')\n",
    "        dropoff_time = datetime.strptime(dropoff_time, '%Y-%m-%d %H:%M:%S')\n",
    "        return (dropoff_time - pickup_time).seconds\n",
    "    except:\n",
    "        return -1\n",
    "\n",
    "t_env.register_function('compute_duration_time', compute_duration_time)"
   ]
  },
  {
   "cell_type": "code",
   "execution_count": 9,
   "metadata": {},
   "outputs": [],
   "source": [
    "# 获取起点时间是周几、是几日、是几时\n",
    "@udf(input_types=[DataTypes.STRING()], result_type=DataTypes.BIGINT())\n",
    "def pickup_time_weekday(pickup_time):\n",
    "    try:\n",
    "        pickup_time = datetime.strptime(pickup_time, '%Y-%m-%d %H:%M:%S')\n",
    "        return pickup_time.weekday()\n",
    "    except:\n",
    "        return -1\n",
    "\n",
    "@udf(input_types=[DataTypes.STRING()], result_type=DataTypes.BIGINT())\n",
    "def pickup_time_day(pickup_time):\n",
    "    try:\n",
    "        pickup_time = datetime.strptime(pickup_time, '%Y-%m-%d %H:%M:%S')\n",
    "        return pickup_time.day\n",
    "    except:\n",
    "        return -1\n",
    "\n",
    "@udf(input_types=[DataTypes.STRING()], result_type=DataTypes.BIGINT())\n",
    "def pickup_time_hour(pickup_time):\n",
    "    try:\n",
    "        pickup_time = datetime.strptime(pickup_time, '%Y-%m-%d %H:%M:%S')\n",
    "        return pickup_time.hour\n",
    "    except:\n",
    "        return -1\n",
    "t_env.register_function('pickup_time_weekday', pickup_time_weekday)\n",
    "t_env.register_function('pickup_time_day', pickup_time_day)\n",
    "t_env.register_function('pickup_time_hour', pickup_time_hour)"
   ]
  },
  {
   "cell_type": "code",
   "execution_count": 10,
   "metadata": {},
   "outputs": [],
   "source": [
    "# 处理流程\n",
    "t_env.from_path('mySource') \\\n",
    "    .select(\"pickup_datetime, dropoff_datetime, pickup_longitude, pickup_latitude, dropoff_longitude, dropoff_latitude, distance_meters(pickup_longitude, pickup_latitude) as O, distance_meters(dropoff_longitude, dropoff_latitude) as D, compute_duration_time(pickup_datetime, dropoff_datetime) as duration, pickup_time_weekday(pickup_datetime) as weekday, pickup_time_day(pickup_datetime) as day, pickup_time_hour(pickup_datetime) as hour\") \\\n",
    "    .select(\"pickup_datetime, dropoff_datetime, pickup_longitude, pickup_latitude, dropoff_longitude, dropoff_latitude, O, D, is_same_od(O, D) as same_od, duration, weekday, day, hour\") \\\n",
    "    .insert_into('mySink')"
   ]
  },
  {
   "cell_type": "code",
   "execution_count": 11,
   "metadata": {},
   "outputs": [
    {
     "output_type": "stream",
     "name": "stdout",
     "text": [
      "807.1666331291199 13.452777218818664\n"
     ]
    }
   ],
   "source": [
    "# 执行与计时\n",
    "start_time = time.time()\n",
    "t_env.execute(\"job\")\n",
    "compute_time = time.time() - start_time\n",
    "print(compute_time, compute_time / 60)"
   ]
  },
  {
   "cell_type": "code",
   "execution_count": null,
   "metadata": {},
   "outputs": [],
   "source": []
  }
 ]
}