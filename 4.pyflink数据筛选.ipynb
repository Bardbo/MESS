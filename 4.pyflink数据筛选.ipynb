{
 "metadata": {
  "language_info": {
   "codemirror_mode": {
    "name": "ipython",
    "version": 3
   },
   "file_extension": ".py",
   "mimetype": "text/x-python",
   "name": "python",
   "nbconvert_exporter": "python",
   "pygments_lexer": "ipython3",
   "version": "3.7.9-final"
  },
  "orig_nbformat": 2,
  "kernelspec": {
   "name": "Python 3.7.9 64-bit ('pyflink': conda)",
   "display_name": "Python 3.7.9 64-bit ('pyflink': conda)",
   "metadata": {
    "interpreter": {
     "hash": "7bca0ce4226e4924b4545d046c28abde24880ab05ecbea8b1861f617641dc344"
    }
   }
  }
 },
 "nbformat": 4,
 "nbformat_minor": 2,
 "cells": [
  {
   "cell_type": "code",
   "execution_count": 1,
   "metadata": {},
   "outputs": [],
   "source": [
    "import pandas as pd\n",
    "import numpy as np\n",
    "from pyflink.datastream import StreamExecutionEnvironment\n",
    "from pyflink.table import StreamTableEnvironment, DataTypes, CsvTableSource\n",
    "from pyflink.table.descriptors import Schema, OldCsv, FileSystem\n",
    "from pyflink.table.udf import udf\n",
    "import os\n",
    "import time\n",
    "from datetime import datetime"
   ]
  },
  {
   "cell_type": "code",
   "execution_count": 2,
   "metadata": {},
   "outputs": [],
   "source": [
    "# 环境等设置\n",
    "env = StreamExecutionEnvironment.get_execution_environment()\n",
    "# env.set_parallelism(1)\n",
    "t_env = StreamTableEnvironment.create(env)\n",
    "t_env.get_config().get_configuration().set_string(\"taskmanager.memory.task.off-heap.size\", '80m')\n",
    "t_env.get_config().get_configuration().set_string(\"python.fn-execution.arrow.batch.size\", '300000')"
   ]
  },
  {
   "cell_type": "code",
   "execution_count": 3,
   "metadata": {},
   "outputs": [
    {
     "output_type": "execute_result",
     "data": {
      "text/plain": [
       "<pyflink.table.descriptors.StreamTableDescriptor at 0x15eb853bdc8>"
      ]
     },
     "metadata": {},
     "execution_count": 3
    }
   ],
   "source": [
    "# 输入表创建\n",
    "t_env.connect(FileSystem().path('./data/map_matching')) \\\n",
    "    .with_format(OldCsv()\n",
    "                 .field('pickup_datetime', DataTypes.STRING())\n",
    "                 .field('dropoff_datetime', DataTypes.STRING())\n",
    "                 .field('pickup_longitude', DataTypes.FLOAT())\n",
    "                 .field('pickup_latitude', DataTypes.FLOAT())\n",
    "                 .field('dropoff_longitude', DataTypes.FLOAT())\n",
    "                 .field('dropoff_latitude', DataTypes.FLOAT())\n",
    "                 .field('O', DataTypes.BIGINT())\n",
    "                 .field('D', DataTypes.BIGINT())\n",
    "                 .field('same_od', DataTypes.BIGINT())\n",
    "                 .field('duration', DataTypes.BIGINT())\n",
    "                 .field('weekday', DataTypes.BIGINT())\n",
    "                 .field('day', DataTypes.BIGINT())\n",
    "                 .field('hour', DataTypes.BIGINT())\n",
    "                 ) \\\n",
    "    .with_schema(Schema()\n",
    "                 .field('pickup_datetime', DataTypes.STRING())\n",
    "                 .field('dropoff_datetime', DataTypes.STRING())\n",
    "                 .field('pickup_longitude', DataTypes.FLOAT())\n",
    "                 .field('pickup_latitude', DataTypes.FLOAT())\n",
    "                 .field('dropoff_longitude', DataTypes.FLOAT())\n",
    "                 .field('dropoff_latitude', DataTypes.FLOAT())\n",
    "                 .field('O', DataTypes.BIGINT())\n",
    "                 .field('D', DataTypes.BIGINT())\n",
    "                 .field('same_od', DataTypes.BIGINT())\n",
    "                 .field('duration', DataTypes.BIGINT())\n",
    "                 .field('weekday', DataTypes.BIGINT())\n",
    "                 .field('day', DataTypes.BIGINT())\n",
    "                 .field('hour', DataTypes.BIGINT())\n",
    "                 ) \\\n",
    "    .create_temporary_table('mySource')"
   ]
  },
  {
   "cell_type": "code",
   "execution_count": 4,
   "metadata": {},
   "outputs": [
    {
     "output_type": "execute_result",
     "data": {
      "text/plain": [
       "<pyflink.table.descriptors.StreamTableDescriptor at 0x15eb8552188>"
      ]
     },
     "metadata": {},
     "execution_count": 4
    }
   ],
   "source": [
    "t_env.connect(FileSystem().path('./data/pure_data')) \\\n",
    "    .with_format(OldCsv()\n",
    "                 .field('pickup_datetime', DataTypes.STRING())\n",
    "                 .field('dropoff_datetime', DataTypes.STRING())\n",
    "                 .field('pickup_longitude', DataTypes.FLOAT())\n",
    "                 .field('pickup_latitude', DataTypes.FLOAT())\n",
    "                 .field('dropoff_longitude', DataTypes.FLOAT())\n",
    "                 .field('dropoff_latitude', DataTypes.FLOAT())\n",
    "                 .field('O', DataTypes.BIGINT())\n",
    "                 .field('D', DataTypes.BIGINT())\n",
    "                 .field('duration', DataTypes.BIGINT())\n",
    "                 .field('weekday', DataTypes.BIGINT())\n",
    "                 .field('day', DataTypes.BIGINT())\n",
    "                 .field('hour', DataTypes.BIGINT())\n",
    "                 ) \\\n",
    "    .with_schema(Schema()\n",
    "                 .field('pickup_datetime', DataTypes.STRING())\n",
    "                 .field('dropoff_datetime', DataTypes.STRING())\n",
    "                 .field('pickup_longitude', DataTypes.FLOAT())\n",
    "                 .field('pickup_latitude', DataTypes.FLOAT())\n",
    "                 .field('dropoff_longitude', DataTypes.FLOAT())\n",
    "                 .field('dropoff_latitude', DataTypes.FLOAT())\n",
    "                 .field('O', DataTypes.BIGINT())\n",
    "                 .field('D', DataTypes.BIGINT())\n",
    "                 .field('duration', DataTypes.BIGINT())\n",
    "                 .field('weekday', DataTypes.BIGINT())\n",
    "                 .field('day', DataTypes.BIGINT())\n",
    "                 .field('hour', DataTypes.BIGINT())\n",
    "                 ) \\\n",
    "    .create_temporary_table('mySink')"
   ]
  },
  {
   "cell_type": "code",
   "execution_count": 5,
   "metadata": {},
   "outputs": [],
   "source": [
    "# 处理流程\n",
    "t_env.from_path('mySource') \\\n",
    "    .where(\"O != -1\") \\\n",
    "    .where(\"D != -1\") \\\n",
    "    .where(\"duration >= 120\") \\\n",
    "    .where(\"duration <= 3600\") \\\n",
    "    .where(\"same_od == 0 \") \\\n",
    "    .where(\"weekday != -1\") \\\n",
    "    .where(\"day != -1\") \\\n",
    "    .where(\"hour != -1\") \\\n",
    "    .select(\"pickup_datetime, dropoff_datetime, pickup_longitude, pickup_latitude, dropoff_longitude, dropoff_latitude, O, D, duration, weekday, day, hour\") \\\n",
    "    .insert_into('mySink')"
   ]
  },
  {
   "cell_type": "code",
   "execution_count": 6,
   "metadata": {},
   "outputs": [
    {
     "output_type": "stream",
     "name": "stdout",
     "text": [
      "24.961636304855347 0.41602727174758913\n"
     ]
    }
   ],
   "source": [
    "# 执行与计时\n",
    "start_time = time.time()\n",
    "t_env.execute(\"job2\")\n",
    "compute_time = time.time() - start_time\n",
    "print(compute_time, compute_time / 60)"
   ]
  },
  {
   "cell_type": "code",
   "execution_count": null,
   "metadata": {},
   "outputs": [],
   "source": []
  }
 ]
}