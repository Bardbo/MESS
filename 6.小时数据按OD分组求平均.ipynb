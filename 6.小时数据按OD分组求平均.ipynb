{
 "metadata": {
  "language_info": {
   "codemirror_mode": {
    "name": "ipython",
    "version": 3
   },
   "file_extension": ".py",
   "mimetype": "text/x-python",
   "name": "python",
   "nbconvert_exporter": "python",
   "pygments_lexer": "ipython3",
   "version": "3.8.3-final"
  },
  "orig_nbformat": 2,
  "kernelspec": {
   "name": "python3",
   "display_name": "Python 3"
  }
 },
 "nbformat": 4,
 "nbformat_minor": 2,
 "cells": [
  {
   "cell_type": "code",
   "execution_count": 1,
   "metadata": {},
   "outputs": [],
   "source": [
    "import pandas as pd"
   ]
  },
  {
   "cell_type": "code",
   "execution_count": 2,
   "metadata": {},
   "outputs": [],
   "source": [
    "hour_0 = pd.read_csv('./data/hour_data/hour_0', names=['pickup_datetime', 'dropoff_datetime', 'pickup_longitude', 'pickup_latitude', 'dropoff_longitude', 'dropoff_latitude', 'O', 'D', 'duration', 'weekday', 'day', 'hour'])"
   ]
  },
  {
   "cell_type": "code",
   "execution_count": 3,
   "metadata": {},
   "outputs": [
    {
     "output_type": "execute_result",
     "data": {
      "text/plain": [
       "            pickup_datetime     dropoff_datetime  pickup_longitude  \\\n",
       "0       2014-01-18 00:31:37  2014-01-18 00:39:34        -73.987920   \n",
       "1       2014-01-18 00:16:07  2014-01-18 00:30:48        -73.991660   \n",
       "2       2014-01-18 00:53:17  2014-01-18 01:00:17        -74.001236   \n",
       "3       2014-01-18 00:12:15  2014-01-18 00:20:33        -73.983090   \n",
       "4       2014-01-18 00:35:24  2014-01-18 00:55:45        -73.997680   \n",
       "...                     ...                  ...               ...   \n",
       "368451  2014-01-18 00:10:44  2014-01-18 00:12:59        -74.002686   \n",
       "368452  2014-01-17 00:59:50  2014-01-17 01:05:35        -73.947330   \n",
       "368453  2014-01-17 00:10:34  2014-01-17 00:15:29        -73.975540   \n",
       "368454  2014-01-19 00:55:18  2014-01-19 00:57:22        -73.994500   \n",
       "368455  2014-01-17 00:06:15  2014-01-17 00:21:27        -73.983200   \n",
       "\n",
       "        pickup_latitude  dropoff_longitude  dropoff_latitude     O     D  \\\n",
       "0             40.732277         -73.985596         40.723335  1002   659   \n",
       "1             40.759937         -73.985460         40.731808  1740   966   \n",
       "2             40.736600         -73.992430         40.741120  1114  1296   \n",
       "3             40.766586         -73.975700         40.751980  1933  1555   \n",
       "4             40.716854         -73.964540         40.802050   392  2846   \n",
       "...                 ...                ...               ...   ...   ...   \n",
       "368451        40.733936         -74.004654         40.725746  1032   765   \n",
       "368452        40.779970         -73.942726         40.801640  2278  2874   \n",
       "368453        40.761130         -73.975980         40.755540  1791  1644   \n",
       "368454        40.767420         -73.985596         40.763676  1928  1834   \n",
       "368455        40.755993         -74.008670         40.719612  1660   495   \n",
       "\n",
       "        duration  weekday  day  hour  \n",
       "0            477        5   18     0  \n",
       "1            881        5   18     0  \n",
       "2            420        5   18     0  \n",
       "3            498        5   18     0  \n",
       "4           1221        5   18     0  \n",
       "...          ...      ...  ...   ...  \n",
       "368451       135        5   18     0  \n",
       "368452       345        4   17     0  \n",
       "368453       295        4   17     0  \n",
       "368454       124        6   19     0  \n",
       "368455       912        4   17     0  \n",
       "\n",
       "[368456 rows x 12 columns]"
      ],
      "text/html": "<div>\n<style scoped>\n    .dataframe tbody tr th:only-of-type {\n        vertical-align: middle;\n    }\n\n    .dataframe tbody tr th {\n        vertical-align: top;\n    }\n\n    .dataframe thead th {\n        text-align: right;\n    }\n</style>\n<table border=\"1\" class=\"dataframe\">\n  <thead>\n    <tr style=\"text-align: right;\">\n      <th></th>\n      <th>pickup_datetime</th>\n      <th>dropoff_datetime</th>\n      <th>pickup_longitude</th>\n      <th>pickup_latitude</th>\n      <th>dropoff_longitude</th>\n      <th>dropoff_latitude</th>\n      <th>O</th>\n      <th>D</th>\n      <th>duration</th>\n      <th>weekday</th>\n      <th>day</th>\n      <th>hour</th>\n    </tr>\n  </thead>\n  <tbody>\n    <tr>\n      <th>0</th>\n      <td>2014-01-18 00:31:37</td>\n      <td>2014-01-18 00:39:34</td>\n      <td>-73.987920</td>\n      <td>40.732277</td>\n      <td>-73.985596</td>\n      <td>40.723335</td>\n      <td>1002</td>\n      <td>659</td>\n      <td>477</td>\n      <td>5</td>\n      <td>18</td>\n      <td>0</td>\n    </tr>\n    <tr>\n      <th>1</th>\n      <td>2014-01-18 00:16:07</td>\n      <td>2014-01-18 00:30:48</td>\n      <td>-73.991660</td>\n      <td>40.759937</td>\n      <td>-73.985460</td>\n      <td>40.731808</td>\n      <td>1740</td>\n      <td>966</td>\n      <td>881</td>\n      <td>5</td>\n      <td>18</td>\n      <td>0</td>\n    </tr>\n    <tr>\n      <th>2</th>\n      <td>2014-01-18 00:53:17</td>\n      <td>2014-01-18 01:00:17</td>\n      <td>-74.001236</td>\n      <td>40.736600</td>\n      <td>-73.992430</td>\n      <td>40.741120</td>\n      <td>1114</td>\n      <td>1296</td>\n      <td>420</td>\n      <td>5</td>\n      <td>18</td>\n      <td>0</td>\n    </tr>\n    <tr>\n      <th>3</th>\n      <td>2014-01-18 00:12:15</td>\n      <td>2014-01-18 00:20:33</td>\n      <td>-73.983090</td>\n      <td>40.766586</td>\n      <td>-73.975700</td>\n      <td>40.751980</td>\n      <td>1933</td>\n      <td>1555</td>\n      <td>498</td>\n      <td>5</td>\n      <td>18</td>\n      <td>0</td>\n    </tr>\n    <tr>\n      <th>4</th>\n      <td>2014-01-18 00:35:24</td>\n      <td>2014-01-18 00:55:45</td>\n      <td>-73.997680</td>\n      <td>40.716854</td>\n      <td>-73.964540</td>\n      <td>40.802050</td>\n      <td>392</td>\n      <td>2846</td>\n      <td>1221</td>\n      <td>5</td>\n      <td>18</td>\n      <td>0</td>\n    </tr>\n    <tr>\n      <th>...</th>\n      <td>...</td>\n      <td>...</td>\n      <td>...</td>\n      <td>...</td>\n      <td>...</td>\n      <td>...</td>\n      <td>...</td>\n      <td>...</td>\n      <td>...</td>\n      <td>...</td>\n      <td>...</td>\n      <td>...</td>\n    </tr>\n    <tr>\n      <th>368451</th>\n      <td>2014-01-18 00:10:44</td>\n      <td>2014-01-18 00:12:59</td>\n      <td>-74.002686</td>\n      <td>40.733936</td>\n      <td>-74.004654</td>\n      <td>40.725746</td>\n      <td>1032</td>\n      <td>765</td>\n      <td>135</td>\n      <td>5</td>\n      <td>18</td>\n      <td>0</td>\n    </tr>\n    <tr>\n      <th>368452</th>\n      <td>2014-01-17 00:59:50</td>\n      <td>2014-01-17 01:05:35</td>\n      <td>-73.947330</td>\n      <td>40.779970</td>\n      <td>-73.942726</td>\n      <td>40.801640</td>\n      <td>2278</td>\n      <td>2874</td>\n      <td>345</td>\n      <td>4</td>\n      <td>17</td>\n      <td>0</td>\n    </tr>\n    <tr>\n      <th>368453</th>\n      <td>2014-01-17 00:10:34</td>\n      <td>2014-01-17 00:15:29</td>\n      <td>-73.975540</td>\n      <td>40.761130</td>\n      <td>-73.975980</td>\n      <td>40.755540</td>\n      <td>1791</td>\n      <td>1644</td>\n      <td>295</td>\n      <td>4</td>\n      <td>17</td>\n      <td>0</td>\n    </tr>\n    <tr>\n      <th>368454</th>\n      <td>2014-01-19 00:55:18</td>\n      <td>2014-01-19 00:57:22</td>\n      <td>-73.994500</td>\n      <td>40.767420</td>\n      <td>-73.985596</td>\n      <td>40.763676</td>\n      <td>1928</td>\n      <td>1834</td>\n      <td>124</td>\n      <td>6</td>\n      <td>19</td>\n      <td>0</td>\n    </tr>\n    <tr>\n      <th>368455</th>\n      <td>2014-01-17 00:06:15</td>\n      <td>2014-01-17 00:21:27</td>\n      <td>-73.983200</td>\n      <td>40.755993</td>\n      <td>-74.008670</td>\n      <td>40.719612</td>\n      <td>1660</td>\n      <td>495</td>\n      <td>912</td>\n      <td>4</td>\n      <td>17</td>\n      <td>0</td>\n    </tr>\n  </tbody>\n</table>\n<p>368456 rows × 12 columns</p>\n</div>"
     },
     "metadata": {},
     "execution_count": 3
    }
   ],
   "source": [
    "hour_0"
   ]
  },
  {
   "cell_type": "code",
   "execution_count": 4,
   "metadata": {},
   "outputs": [],
   "source": [
    "hour_0_mean_OD_duration = pd.DataFrame(hour_0.groupby(['O', 'D'])['duration'].mean())"
   ]
  },
  {
   "cell_type": "code",
   "execution_count": 5,
   "metadata": {},
   "outputs": [],
   "source": [
    "# hour_0_mean_OD_duration.index\n",
    "# hour_0_mean_OD_duration.duration.values"
   ]
  },
  {
   "cell_type": "code",
   "execution_count": 6,
   "metadata": {},
   "outputs": [],
   "source": [
    "# import os\n",
    "# os.makedirs('./data/hour_mean_OD_duration_data')"
   ]
  },
  {
   "cell_type": "code",
   "execution_count": 7,
   "metadata": {},
   "outputs": [],
   "source": [
    "hour_0_mean_OD_duration.to_csv('./data/hour_mean_OD_duration_data/hour_0_mean_OD_duration.csv')\n",
    "# hour_0_mean_OD_duration.to_csv('./data/hour_mean_OD_duration_data/hour_0_mean_OD_duration.csv', header=None)"
   ]
  },
  {
   "cell_type": "code",
   "execution_count": 28,
   "metadata": {},
   "outputs": [],
   "source": [
    "# df = pd.read_csv('./data/hour_mean_OD_duration_data/hour_0_mean_OD_duration.csv')"
   ]
  },
  {
   "cell_type": "code",
   "execution_count": null,
   "metadata": {},
   "outputs": [],
   "source": []
  }
 ]
}